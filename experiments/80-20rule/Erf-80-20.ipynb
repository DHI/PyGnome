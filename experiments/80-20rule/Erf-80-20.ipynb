{
 "cells": [
  {
   "cell_type": "markdown",
   "metadata": {},
   "source": [
    "## Experiments with the 80-20 rule\n",
    "\n",
    "This is a little test to see if we could use the Error Function to interpolate,\n",
    "rather than simiple linear interpoation.\n",
    "\n",
    "It would provide a smotther results (does it matter), and also a simpler computaiton, in that there aren't any \"if\" cases. \n",
    "\n",
    "Though a quick check showed that the Error Function method is slower anyway. So maybe no point?"
   ]
  },
  {
   "cell_type": "code",
   "execution_count": 5,
   "metadata": {},
   "outputs": [],
   "source": [
    "%matplotlib inline\n",
    "import matplotlib.pyplot as plt\n",
    "import numpy as np\n",
    "from scipy.special import erf"
   ]
  },
  {
   "cell_type": "code",
   "execution_count": 6,
   "metadata": {},
   "outputs": [],
   "source": [
    "fraction = np.linspace(0, 1.0, 1000)\n",
    "scale_factor = 5\n",
    "\n",
    "def scale(fraction):\n",
    "    return (erf((fraction - 0.5) * scale_factor) + 1) / 2\n",
    "\n",
    "def scale_lin(fraction):\n",
    "    scale = fraction * 1.6666666666666667 - (0.3333333333333333)\n",
    "    scale[fraction<0.2] = 0.0\n",
    "    scale[fraction>0.8] = 1.0\n",
    "    return scale\n",
    "\n"
   ]
  },
  {
   "cell_type": "code",
   "execution_count": 7,
   "metadata": {},
   "outputs": [
    {
     "data": {
      "image/png": "[encoded data removed]",
      "text/plain": [
       "<Figure size 432x288 with 1 Axes>"
      ]
     },
     "metadata": {
      "needs_background": "light"
     },
     "output_type": "display_data"
    }
   ],
   "source": [
    "fig, ax = plt.subplots()\n",
    "ax.plot(fraction, scale(fraction))\n",
    "ax.plot(fraction, scale_lin(fraction))\n",
    "ax.grid(True)"
   ]
  },
  {
   "cell_type": "code",
   "execution_count": 9,
   "metadata": {},
   "outputs": [
    {
     "name": "stdout",
     "output_type": "stream",
     "text": [
      "100000 loops, best of 3: 18 µs per loop\n"
     ]
    }
   ],
   "source": [
    "%timeit scale(fraction)\n"
   ]
  },
  {
   "cell_type": "code",
   "execution_count": 10,
   "metadata": {},
   "outputs": [
    {
     "name": "stdout",
     "output_type": "stream",
     "text": [
      "The slowest run took 11.29 times longer than the fastest. This could mean that an intermediate result is being cached.\n",
      "100000 loops, best of 3: 5.32 µs per loop\n"
     ]
    }
   ],
   "source": [
    "%timeit scale_lin(fraction)\n"
   ]
  },
  {
   "cell_type": "code",
   "execution_count": null,
   "metadata": {},
   "outputs": [],
   "source": [
    "\n"
   ]
  },
  {
   "cell_type": "code",
   "execution_count": null,
   "metadata": {},
   "outputs": [],
   "source": [
    "\n"
   ]
  },
  {
   "cell_type": "code",
   "execution_count": null,
   "metadata": {},
   "outputs": [],
   "source": []
  }
 ],
 "metadata": {
  "kernelspec": {
   "display_name": "Python 2",
   "language": "python",
   "name": "python2"
  },
  "language_info": {
   "codemirror_mode": {
    "name": "ipython",
    "version": 2
   },
   "file_extension": ".py",
   "mimetype": "text/x-python",
   "name": "python",
   "nbconvert_exporter": "python",
   "pygments_lexer": "ipython2",
   "version": "2.7.15"
  }
 },
 "nbformat": 4,
 "nbformat_minor": 2
}
