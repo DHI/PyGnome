{
 "cells": [
  {
   "cell_type": "markdown",
   "metadata": {},
   "source": [
    "# some experiments with evaporation"
   ]
  },
  {
   "cell_type": "code",
   "execution_count": 2,
   "metadata": {
    "collapsed": true
   },
   "outputs": [],
   "source": [
    "import numpy as np\n",
    "from matplotlib import pyplot as plt\n",
    "%matplotlib inline"
   ]
  },
  {
   "cell_type": "markdown",
   "metadata": {},
   "source": [
    "### transfer coeff:\n",
    "\n",
    "We are considering a transfer coeff that scales iwth \"sea spray\" -- i.e. it goes up with high wind speed.\n",
    "\n",
    "I (nor Robert) am not sure there is a basius for this -- water evaporated faster with sea spray, which I think is where Bill got the idea an coeff, but oil is no linger a surface film under these conditions, so who the heck knows? and if anything, I might expect morre atomization of the oil, rather than evaporation -- some of Joe Katz' work, and other GOMRI folks seem to indicate that.\n",
    "\n",
    "atomozatino woudl be a mass loss mechnism, but it would be the whole oil, not jsut teh light ends, like evaporation.\n",
    "\n",
    "but what difference does it actually make?\n",
    "\n",
    "Here's what we got:\n",
    "\n",
    "\n",
    "\n",
    " "
   ]
  },
  {
   "cell_type": "code",
   "execution_count": null,
   "metadata": {
    "collapsed": true
   },
   "outputs": [],
   "source": []
  }
 ],
 "metadata": {
  "kernelspec": {
   "display_name": "Python 2",
   "language": "python",
   "name": "python2"
  },
  "language_info": {
   "codemirror_mode": {
    "name": "ipython",
    "version": 2
   },
   "file_extension": ".py",
   "mimetype": "text/x-python",
   "name": "python",
   "nbconvert_exporter": "python",
   "pygments_lexer": "ipython2",
   "version": "2.7.12"
  }
 },
 "nbformat": 4,
 "nbformat_minor": 0
}
