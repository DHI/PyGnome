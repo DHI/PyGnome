{
 "cells": [
  {
   "cell_type": "markdown",
   "metadata": {},
   "source": [
    "# Viscosity as a function of temperature\n",
    "\n",
    "The basic equation is an exponential decay of viscosity with an increase in temperature.\n",
    "\n",
    "1. $ \\nu_0 = a \\cdot exp \\left( \\frac {k_{\\nu 2}} T \\right) $\n",
    "\n",
    "2. $ a = \\left( \\nu_{ref} \\cdot e^{-k_{\\nu 2} / T_{ref}} \\right) $\n",
    "\n",
    "If you have a reference viscsity, then this leads to:\n",
    "\n",
    "3. $ \\nu_0 = \\nu_{ref} \\cdot exp \\left(k_{\\nu 2} \\cdot \\left[ \\frac{1}{T_w} - \\frac{1}{T_{ref}} \\right]  \\right)$\n",
    "\n",
    "Eq. 1 has two contstants: if we have the viscosity at two reference temperatures, then we can compute these two constants:\n",
    "\n",
    "4. $k_{\\nu 2}  = \\frac{\\ln(\\nu_1 / \\nu_1)}{t_1^{-1} - t_2^{-1}}$\n",
    "\n",
    "and\n",
    "\n",
    "2. $ a = \\left( \\nu_{ref} \\cdot e^{-k_{\\nu 2} / T_{ref}} \\right) $"
   ]
  },
  {
   "cell_type": "code",
   "execution_count": 1,
   "metadata": {},
   "outputs": [],
   "source": [
    "from __future__ import print_function, division\n",
    "import numpy as np\n",
    "import matplotlib.pyplot as plt\n",
    "%matplotlib inline\n"
   ]
  },
  {
   "cell_type": "markdown",
   "metadata": {},
   "source": [
    "## computing the decay constant\n",
    "\n",
    "Paine:\n",
    "k_v2 = 9000 # from Paine\n",
    "\n",
    "### Abu-Eishah 1999\n",
    "\n",
    "kν2 = exp(5.471 + 0.00342 · Tb50) (Abu-Eishah 1999)\n",
    "\n",
    "(Tb50 is the temp at which 50% boils)\n"
   ]
  },
  {
   "cell_type": "markdown",
   "metadata": {},
   "source": [
    "###  compute both contants from two data points:"
   ]
  },
  {
   "cell_type": "code",
   "execution_count": 2,
   "metadata": {},
   "outputs": [],
   "source": [
    "# compute both contants from two data points:\n",
    "    \n",
    "def comp_a_k_v2(v1, t1, v2, t2):\n",
    "    k_v2 = (np.log(v1 / v2)) / ((1/t1) - (1/t2))\n",
    "    a1 = v1 * np.exp(-k_v2 / t1)\n",
    "    a2 = v2 * np.exp(-k_v2 / t2)\n",
    "    \n",
    "    return k_v2, a1, a2"
   ]
  },
  {
   "cell_type": "code",
   "execution_count": 3,
   "metadata": {},
   "outputs": [
    {
     "name": "stdout",
     "output_type": "stream",
     "text": [
      "ANS constants:\n",
      "(3072.9432107061007, 0.0002664936187290487, 0.00026649361872904876)\n",
      "kv_2 from Abu-Eishah 1999:  1929.5961281980653\n"
     ]
    }
   ],
   "source": [
    "# example data:\n",
    "\n",
    "# Alaska North Slope (2015)\n",
    "#Dynamic Viscosity\n",
    "# 17.92 cP\t0 °C\n",
    "# 9.852 cP\t15 °C\n",
    "\n",
    "# Density\tTemperature\n",
    "# 0.875 g/cm³\t0 °C\n",
    "# 0.864 g/cm³\t15 °C\n",
    "\n",
    "v1 = 17.92 / 0.875\n",
    "t1 = 273.16\n",
    "\n",
    "v2 = 9.852 / 0.864\n",
    "t2 = 288.16\n",
    "\n",
    "# computing for sample data:\n",
    "print(\"ANS constants:\")\n",
    "\n",
    "print(comp_a_k_v2(v1, t1, v2, t2))\n",
    "\n",
    "## computing the decay constant\n",
    "# k_v2 = 9000 # from Paine\n",
    "\n",
    "# For ANS TB50 = 339.1 C = 612.3K\n",
    "#\n",
    "k_v2 = np.exp(5.471 + 0.00342 * 612.3) # (Abu-Eishah 1999),\n",
    "print(\"kv_2 from Abu-Eishah 1999: \", k_v2)\n",
    "\n",
    "k_v2, a1, a2 = comp_a_k_v2(v1, t1, v2, t2)\n",
    "\n",
    "assert np.allclose(a1, a2)\n",
    "\n",
    "\n",
    "# a1 = v1 * np.exp(-k_v2 / t1)\n",
    "# a2 = v2 * np.exp(-k_v2 / t2)\n",
    "\n",
    "# a = v1\n",
    "\n",
    "def kvisc(t, a):\n",
    "    return a * np.exp(k_v2 / t)\n"
   ]
  },
  {
   "cell_type": "code",
   "execution_count": 4,
   "metadata": {
    "scrolled": true
   },
   "outputs": [
    {
     "data": {
      "text/plain": [
       "[<matplotlib.lines.Line2D at 0x11ca61e10>]"
      ]
     },
     "execution_count": 4,
     "metadata": {},
     "output_type": "execute_result"
    },
    {
     "data": {
      "image/png": "[encoded data removed]",
      "text/plain": [
       "<Figure size 432x288 with 1 Axes>"
      ]
     },
     "metadata": {
      "needs_background": "light"
     },
     "output_type": "display_data"
    }
   ],
   "source": [
    "T = np.linspace(273, 303, 10)  # environmentallly realistic range of temps.\n",
    "kv1 = kvisc(T, a1)\n",
    "kv2 = kvisc(T, a2)\n",
    "\n",
    "plt.plot(T, kv1)\n",
    "plt.plot(T, kv2, '.')\n",
    "plt.plot(t1, v1, 'o')\n",
    "plt.plot(t2, v2, 'o')\n"
   ]
  },
  {
   "cell_type": "markdown",
   "metadata": {},
   "source": [
    "\n",
    "\n"
   ]
  },
  {
   "cell_type": "markdown",
   "metadata": {},
   "source": [
    "## More than two data points\n",
    "\n",
    "There are (at least) three options here:\n",
    "\n",
    "1) log-interpolate between each pair or points\n",
    "\n",
    "3) Do a least squares fit to all the data\n",
    "\n",
    "4) use the two points at the span of environmentally relevent data\n",
    "\n",
    "(1) is kind of a pain, so let's explore the other options"
   ]
  },
  {
   "cell_type": "markdown",
   "metadata": {},
   "source": [
    "### Least squares fit\n",
    "\n",
    "#### Sample data: \n",
    "HOOPS BLEND, ExxonMobil\n",
    "\n",
    "\n",
    "| Viscosity  | Temperature |\n",
    "|------------|-------------|\n",
    "| 19.6 cSt   | 4.85  °C    |\n",
    "| 13.2 cSt   | 15.85 °C    |\n",
    "| 9.85 cSt   | 24.85 °C    |\n",
    "| 9.39 cSt   | 26.85 °C    |\n",
    "| 6.99 cSt   | 37.85 °C    |\n",
    "| 6.62 cSt   | 39.85 °C    |\n",
    "\n"
   ]
  },
  {
   "cell_type": "code",
   "execution_count": 5,
   "metadata": {},
   "outputs": [],
   "source": [
    "# least squares fit to data:\n",
    "\n",
    "def lstsq_k_a(viscs, temps):\n",
    "    viscs = np.asarray(viscs)\n",
    "    temps = np.asarray(temps)\n",
    "    A = np.c_[np.ones_like(viscs), 1.0 / temps]\n",
    "    b = np.log(viscs)\n",
    "    x = x, residuals, rank, s = np.linalg.lstsq(A, b)\n",
    "    K = x[1]\n",
    "    a = np.exp(x[0])\n",
    "    print(\"solution:\", K, a)\n",
    "    return K, a\n",
    "    \n",
    "\n",
    "\n",
    "    "
   ]
  },
  {
   "cell_type": "code",
   "execution_count": 8,
   "metadata": {},
   "outputs": [
    {
     "name": "stdout",
     "output_type": "stream",
     "text": [
      "solution: 2684.0463074485965 0.001234562792846486\n"
     ]
    },
    {
     "name": "stderr",
     "output_type": "stream",
     "text": [
      "/Users/chris.barker/miniconda3/envs/gnome/lib/python2.7/site-packages/ipykernel_launcher.py:8: FutureWarning: `rcond` parameter will change to the default of machine precision times ``max(M, N)`` where M and N are the input matrix dimensions.\n",
      "To use the future default and silence this warning we advise to pass `rcond=None`, to keep using the old, explicitly pass `rcond=-1`.\n",
      "  \n"
     ]
    },
    {
     "data": {
      "text/plain": [
       "Text(0.5,1,'HOOPS BLEND, ExxonMobil')"
      ]
     },
     "execution_count": 8,
     "metadata": {},
     "output_type": "execute_result"
    },
    {
     "data": {
      "image/png": "[encoded data removed]",
      "text/plain": [
       "<Figure size 432x288 with 1 Axes>"
      ]
     },
     "metadata": {
      "needs_background": "light"
     },
     "output_type": "display_data"
    }
   ],
   "source": [
    "viscs = [19.6, 13.2, 9.85, 9.39, 6.99, 6.62]\n",
    "temps = np.array([4.85, 15.85, 24.85, 26.85, 37.85, 39.85]) + 273.16\n",
    "\n",
    "k_v2, A = lstsq_k_a(viscs, temps)\n",
    "\n",
    "\n",
    "T = np.linspace(min(temps), max(temps), 20)\n",
    "\n",
    "fit_visc = A * np.exp(k_v2 / T)\n",
    "\n",
    "plt.plot(T, fit_visc)\n",
    "plt.plot(temps, viscs, 'o')\n",
    "plt.title('HOOPS BLEND, ExxonMobil')\n",
    "\n"
   ]
  },
  {
   "cell_type": "markdown",
   "metadata": {},
   "source": [
    "## Example 2: a refined product:\n",
    "\n",
    "MARINE INTERMEDIATE FUEL OIL\n",
    "\n",
    "API: 12.9\n",
    "\n",
    "```\n",
    "Dynamic Viscosity:\n",
    "Viscosity\tTemperature\n",
    "64000 cP\t-0.15 °C\n",
    "31500 cP\t4.85 °C\n",
    "16000 cP\t9.85 °C\n",
    "8200 cP\t14.85 °C\n",
    "```\n",
    "\n",
    "```\n",
    "Density:\n",
    "Density\tTemperature\n",
    "0.991 g/cm³\t-0.15 °C\n",
    "0.987 g/cm³\t4.85 °C\n",
    "0.983 g/cm³\t9.85 °C\n",
    "0.979 g/cm³\t14.85 °C\n",
    "```\n",
    "\n"
   ]
  },
  {
   "cell_type": "code",
   "execution_count": 7,
   "metadata": {},
   "outputs": [
    {
     "name": "stdout",
     "output_type": "stream",
     "text": [
      "solution: 10695.492500499755 6.258824740751891e-13\n"
     ]
    },
    {
     "name": "stderr",
     "output_type": "stream",
     "text": [
      "/Users/chris.barker/miniconda3/envs/gnome/lib/python2.7/site-packages/ipykernel_launcher.py:8: FutureWarning: `rcond` parameter will change to the default of machine precision times ``max(M, N)`` where M and N are the input matrix dimensions.\n",
      "To use the future default and silence this warning we advise to pass `rcond=None`, to keep using the old, explicitly pass `rcond=-1`.\n",
      "  \n"
     ]
    },
    {
     "data": {
      "text/plain": [
       "Text(0.5,1,'MARINE INTERMEDIATE FUEL OIL')"
      ]
     },
     "execution_count": 7,
     "metadata": {},
     "output_type": "execute_result"
    },
    {
     "data": {
      "image/png": "[encoded data removed]",
      "text/plain": [
       "<Figure size 432x288 with 1 Axes>"
      ]
     },
     "metadata": {
      "needs_background": "light"
     },
     "output_type": "display_data"
    }
   ],
   "source": [
    "dviscs = np.array([64000, 31500, 16000, 8200])\n",
    "densities = np.array([.991, .987, .983, .979])\n",
    "viscs = dviscs / densities\n",
    "temps = np.array([-0.15, 4.85, 9.85, 14.85]) + 273.16\n",
    "\n",
    "k_v2, A = lstsq_k_a(viscs, temps)\n",
    "\n",
    "\n",
    "T = np.linspace(min(temps), max(temps), 20)\n",
    "\n",
    "fit_visc = A * np.exp(k_v2 / T)\n",
    "\n",
    "plt.plot(T, fit_visc)\n",
    "plt.plot(temps, viscs, 'o')\n",
    "plt.title('MARINE INTERMEDIATE FUEL OIL')\n"
   ]
  },
  {
   "cell_type": "code",
   "execution_count": null,
   "metadata": {},
   "outputs": [],
   "source": [
    "\n"
   ]
  },
  {
   "cell_type": "code",
   "execution_count": null,
   "metadata": {},
   "outputs": [],
   "source": []
  },
  {
   "cell_type": "code",
   "execution_count": null,
   "metadata": {},
   "outputs": [],
   "source": []
  },
  {
   "cell_type": "code",
   "execution_count": null,
   "metadata": {},
   "outputs": [],
   "source": []
  },
  {
   "cell_type": "code",
   "execution_count": null,
   "metadata": {},
   "outputs": [],
   "source": []
  }
 ],
 "metadata": {
  "kernelspec": {
   "display_name": "Python 2",
   "language": "python",
   "name": "python2"
  },
  "language_info": {
   "codemirror_mode": {
    "name": "ipython",
    "version": 2
   },
   "file_extension": ".py",
   "mimetype": "text/x-python",
   "name": "python",
   "nbconvert_exporter": "python",
   "pygments_lexer": "ipython2",
   "version": "2.7.15"
  }
 },
 "nbformat": 4,
 "nbformat_minor": 2
}
