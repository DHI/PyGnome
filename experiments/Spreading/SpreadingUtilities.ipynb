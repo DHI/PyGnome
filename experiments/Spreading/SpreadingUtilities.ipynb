{
 "cells": [
  {
   "cell_type": "markdown",
   "metadata": {},
   "source": [
    "# Assorted Spreading Code...\n",
    "\n",
    "Stuff here to teset, etc..."
   ]
  },
  {
   "cell_type": "code",
   "execution_count": 36,
   "metadata": {
    "collapsed": true
   },
   "outputs": [],
   "source": [
    "import numpy as np\n",
    "import matplotlib.pyplot as plt\n",
    "%matplotlib inline"
   ]
  },
  {
   "cell_type": "markdown",
   "metadata": {},
   "source": [
    "# Fay Spreading...\n",
    "\n",
    "Fay spreading, as done in ADIOS2 (and Merv's book)\n"
   ]
  },
  {
   "cell_type": "markdown",
   "metadata": {},
   "source": [
    "## Initial area\n",
    "\n",
    "$A_0 = \\pi \\frac{K_1^4}{K_2^2}\\left( \\frac{g V_0^5 \\Delta}{\\nu_w^2} \\right)^{1/6}$\n",
    "\n",
    "## Initial radius\n",
    "\n",
    "$r_0 = \\frac{K_1^2}{K_2}\\left( \\frac{g V_0^5 \\Delta}{\\nu_w^2} \\right)^{1/12}$\n",
    "\n",
    "This is the end of the gravity-viscous stage -- essentially linear with initial volume\n",
    "\n",
    "### Continuous release?\n",
    "But what to do about a continuos release? We should be able to do something with the the release rate -- scaling to the time to get to the end of the gravity-viscous stage? The idea here is that the shorter the timestep, the smaller each LE mass is -- but we dont want the result to be a function of timestep."
   ]
  },
  {
   "cell_type": "code",
   "execution_count": 37,
   "metadata": {
    "collapsed": false
   },
   "outputs": [],
   "source": [
    "# Constants\n",
    "K1=1.53 # not sure where these come from -- slightly different than Fay (1971)\n",
    "K2=1.21\n",
    "\n",
    "visc_w = 1e-6 # viscoscity of water: m^2/s\n",
    "\n",
    "g = 9.806 # gavity, m/s^2\n",
    "\n",
    "def delta():\n",
    "    rho_oil = 0.8 # density of oil\n",
    "    rho_water = 1 # density of water\n",
    "    return (rho_water-rho_oil)/rho_water\n",
    "\n",
    "def init_area(V0):\n",
    "    return np.pi * (K1**4/K2**2) * ((g * V0**5 * delta())/visc_w**2 )**(1./6.) \n",
    "\n",
    "def init_radius(V0):\n",
    "    return         (K1**2/K2) * ((g * V0**5 * delta())/visc_w**2 )**(1./12.)\n",
    "\n",
    "def old_init_area(V0):\n",
    "    return np.pi*(K2**4/K1**2)*((V0**5*g*delta())/(visc_w**2))**(1./6.)\n"
   ]
  },
  {
   "cell_type": "code",
   "execution_count": 38,
   "metadata": {
    "collapsed": false
   },
   "outputs": [],
   "source": [
    "vol = np.linspace(1,100) # 1 to 100 cubic meters\n",
    "area = init_area(vol)\n",
    "old_area = old_init_area(vol)\n",
    "radius = init_radius(vol)"
   ]
  },
  {
   "cell_type": "code",
   "execution_count": 39,
   "metadata": {
    "collapsed": false
   },
   "outputs": [
    {
     "name": "stdout",
     "output_type": "stream",
     "text": [
      "[ 0.54390769  0.45164263  0.40277741  0.36826818  0.3412104   0.31878132\n",
      "  0.29953158  0.28261209  0.26748015  0.25376655  0.24120815  0.22961034\n",
      "  0.21882497  0.20873648  0.19925288  0.19029971  0.18181578  0.17375017\n",
      "  0.16606003  0.15870892  0.15166561  0.14490309  0.13839786  0.13212931\n",
      "  0.1260793   0.12023173  0.11457228  0.10908811  0.10376772  0.09860071\n",
      "  0.09357769  0.0886901   0.08393018  0.07929079  0.07476543  0.0703481\n",
      "  0.06603329  0.06181591  0.05769125  0.05365492  0.04970289  0.04583136\n",
      "  0.04203681  0.03831597  0.03466574  0.03108325  0.02756579  0.02411082\n",
      "  0.02071594  0.01737891]\n"
     ]
    },
    {
     "data": {
      "image/png": "[encoded data removed]",
      "text/plain": [
       "<matplotlib.figure.Figure at 0x8603940>"
      ]
     },
     "metadata": {},
     "output_type": "display_data"
    }
   ],
   "source": [
    "fig, ax = plt.subplots(1,1)\n",
    "ax.plot(vol, area, c='r')\n",
    "# ax.plot(vol, np.pi * radius**2)\n",
    "ax.plot(vol, old_area, c='b')\n",
    "# ax.plot(vol, 600* vol)\n",
    "# ax.plot(vol, area - 600*vol)\n",
    "ax.grid(True)\n",
    "print((area - 600*vol)/area)\n"
   ]
  },
  {
   "cell_type": "code",
   "execution_count": 40,
   "metadata": {
    "collapsed": false
   },
   "outputs": [],
   "source": [
    "# A check on the radius / area code:\n",
    "assert np.allclose(np.pi * radius**2, area)"
   ]
  },
  {
   "cell_type": "markdown",
   "metadata": {},
   "source": [
    "## Gravity-viscous spreading\n",
    "\n",
    "The main \"Fay Spreading\"\n",
    "\n",
    "radius:\n",
    "\n",
    "$r(t) = K_2(\\frac{g \\Delta V_0^2 t^{3/2}}{\\nu^{1/2}})^{1/6}$\n",
    "\n",
    "area:\n",
    "\n",
    "$A(t) = \\pi K_2^2 (\\frac{g \\Delta V_0^2 t^{3/2}}{\\nu^{1/2}})^{1/3}$\n",
    "\n",
    "or\n",
    "\n",
    "$A(t) = \\pi K_2^2 (\\frac{g \\Delta V_0^2}{\\nu^{1/2}})^{1/3} \\sqrt(t)$\n",
    "\n"
   ]
  },
  {
   "cell_type": "code",
   "execution_count": 41,
   "metadata": {
    "collapsed": true
   },
   "outputs": [],
   "source": [
    "def Fay(V0, t):\n",
    "    return np.pi * k2**2 * (delta() * g * V0**2/np.sqrt(visc_w))**(1./3) * np.sqrt(t)"
   ]
  },
  {
   "cell_type": "code",
   "execution_count": 42,
   "metadata": {
    "collapsed": false
   },
   "outputs": [
    {
     "ename": "NameError",
     "evalue": "global name 'k2' is not defined",
     "output_type": "error",
     "traceback": [
      "\u001b[0;31m---------------------------------------------------------------------------\u001b[0m",
      "\u001b[0;31mNameError\u001b[0m                                 Traceback (most recent call last)",
      "\u001b[0;32m<ipython-input-42-c065d4110c3c>\u001b[0m in \u001b[0;36m<module>\u001b[0;34m()\u001b[0m\n\u001b[1;32m      1\u001b[0m \u001b[0mV0\u001b[0m \u001b[1;33m=\u001b[0m \u001b[1;36m100\u001b[0m \u001b[1;31m# cubic meters ~ 16kgal\u001b[0m\u001b[1;33m\u001b[0m\u001b[0m\n\u001b[1;32m      2\u001b[0m \u001b[0mtime\u001b[0m \u001b[1;33m=\u001b[0m \u001b[0mnp\u001b[0m\u001b[1;33m.\u001b[0m\u001b[0mlinspace\u001b[0m\u001b[1;33m(\u001b[0m\u001b[1;36m1\u001b[0m\u001b[1;33m,\u001b[0m \u001b[1;36m24\u001b[0m\u001b[1;33m*\u001b[0m\u001b[1;36m3600\u001b[0m\u001b[1;33m)\u001b[0m\u001b[1;33m\u001b[0m\u001b[0m\n\u001b[0;32m----> 3\u001b[0;31m \u001b[0mfay_area\u001b[0m \u001b[1;33m=\u001b[0m \u001b[0mFay\u001b[0m\u001b[1;33m(\u001b[0m\u001b[0mV0\u001b[0m\u001b[1;33m,\u001b[0m \u001b[0mtime\u001b[0m\u001b[1;33m)\u001b[0m\u001b[1;33m\u001b[0m\u001b[0m\n\u001b[0m",
      "\u001b[0;32m<ipython-input-41-28ffa2c6c4e4>\u001b[0m in \u001b[0;36mFay\u001b[0;34m(V0, t)\u001b[0m\n\u001b[1;32m      1\u001b[0m \u001b[1;32mdef\u001b[0m \u001b[0mFay\u001b[0m\u001b[1;33m(\u001b[0m\u001b[0mV0\u001b[0m\u001b[1;33m,\u001b[0m \u001b[0mt\u001b[0m\u001b[1;33m)\u001b[0m\u001b[1;33m:\u001b[0m\u001b[1;33m\u001b[0m\u001b[0m\n\u001b[0;32m----> 2\u001b[0;31m     \u001b[1;32mreturn\u001b[0m \u001b[0mnp\u001b[0m\u001b[1;33m.\u001b[0m\u001b[0mpi\u001b[0m \u001b[1;33m*\u001b[0m \u001b[0mk2\u001b[0m\u001b[1;33m**\u001b[0m\u001b[1;36m2\u001b[0m \u001b[1;33m*\u001b[0m \u001b[1;33m(\u001b[0m\u001b[0mdelta\u001b[0m\u001b[1;33m(\u001b[0m\u001b[1;33m)\u001b[0m \u001b[1;33m*\u001b[0m \u001b[0mg\u001b[0m \u001b[1;33m*\u001b[0m \u001b[0mV0\u001b[0m\u001b[1;33m**\u001b[0m\u001b[1;36m2\u001b[0m\u001b[1;33m/\u001b[0m\u001b[0mnp\u001b[0m\u001b[1;33m.\u001b[0m\u001b[0msqrt\u001b[0m\u001b[1;33m(\u001b[0m\u001b[0mvisc_w\u001b[0m\u001b[1;33m)\u001b[0m\u001b[1;33m)\u001b[0m\u001b[1;33m**\u001b[0m\u001b[1;33m(\u001b[0m\u001b[1;36m1.\u001b[0m\u001b[1;33m/\u001b[0m\u001b[1;36m3\u001b[0m\u001b[1;33m)\u001b[0m \u001b[1;33m*\u001b[0m \u001b[0mnp\u001b[0m\u001b[1;33m.\u001b[0m\u001b[0msqrt\u001b[0m\u001b[1;33m(\u001b[0m\u001b[0mt\u001b[0m\u001b[1;33m)\u001b[0m\u001b[1;33m\u001b[0m\u001b[0m\n\u001b[0m",
      "\u001b[0;31mNameError\u001b[0m: global name 'k2' is not defined"
     ]
    }
   ],
   "source": [
    "V0 = 100 # cubic meters ~ 16kgal\n",
    "time = np.linspace(1, 24*3600)\n",
    "fay_area = Fay(V0, time)"
   ]
  },
  {
   "cell_type": "code",
   "execution_count": null,
   "metadata": {
    "collapsed": false
   },
   "outputs": [],
   "source": [
    "fig, ax = plt.subplots(1,1)\n",
    "ax.plot(time / 3600, fay_area)\n",
    "#ax.hold(True)\n",
    "ax.hlines(init_area(V0), time[0]/3600, time[-1]/3600)\n",
    "ax.annotate('initial area', (24, init_area(V0) ))\n",
    "ax.legend(('Fay',))\n",
    "\n",
    "ax.set_xlabel('time ($hrs$)')\n",
    "ax.set_ylabel('area ($m^3$)')"
   ]
  },
  {
   "cell_type": "markdown",
   "metadata": {},
   "source": [
    "## Richardson's 4/3 Diffusion"
   ]
  },
  {
   "cell_type": "code",
   "execution_count": null,
   "metadata": {
    "collapsed": true
   },
   "outputs": [],
   "source": [
    "#The code:\n",
    "\n",
    "class Diffusion(object):\n",
    "\n",
    "    alpha = 0.01 # should be between 0.002 and 0.01 all in CGS units\n",
    "                 # this is the larger number -- probably reasonably suited to coastal surface flows. \n",
    "    \n",
    "    def var(self, t):\n",
    "        \"\"\" the variance as a function of time, according to the 4/3 law\"\"\"\n",
    "        return (2.0/3.0 * self.alpha * t)**3\n",
    "\n",
    "    def area(self, t):\n",
    "        return np.pi * 4.0 * self.var(t)\n",
    "        \n",
    "    def sigma(self, t):\n",
    "        return np.sqrt(self.var(t))\n",
    "    \n",
    "    def Diff(self, t):\n",
    "        \"\"\"The Diffusion coef as a function of time\"\"\"\n",
    "        return 4.0/9.0 * self.alpha**3 * t**2\n",
    "    \n",
    "    def time(self, D):\n",
    "        \"\"\"time as a function of Diffusion coef\"\"\"\n",
    "        return 3.0 * 2.0 * np.sqrt(D / self.alpha**3)\n",
    "    \n",
    "    def Length(self, D):\n",
    "        \"\"\"comutes the mixing length scale\"\"\"\n",
    "        return D  / self.alpha\n",
    "\n",
    "diff = Diffusion()\n",
    "diff_area = diff.area(time)"
   ]
  },
  {
   "cell_type": "code",
   "execution_count": null,
   "metadata": {
    "collapsed": false
   },
   "outputs": [],
   "source": [
    "fig, ax = plt.subplots(1,1)\n",
    "ax.plot(time / 3600, fay_area,label='Fay')\n",
    "ax.plot(time / 3600, diff_area, label='Diff')\n",
    "\n",
    "ax.hlines(init_area(V0), time[0]/3600, time[-1]/3600)\n",
    "\n",
    "ax.annotate('initial area', (24, init_area(V0) ))\n",
    "ax.legend()"
   ]
  },
  {
   "cell_type": "code",
   "execution_count": null,
   "metadata": {
    "collapsed": true
   },
   "outputs": [],
   "source": []
  }
 ],
 "metadata": {
  "kernelspec": {
   "display_name": "Python 2",
   "language": "python",
   "name": "python2"
  },
  "language_info": {
   "codemirror_mode": {
    "name": "ipython",
    "version": 2
   },
   "file_extension": ".py",
   "mimetype": "text/x-python",
   "name": "python",
   "nbconvert_exporter": "python",
   "pygments_lexer": "ipython2",
   "version": "2.7.11"
  }
 },
 "nbformat": 4,
 "nbformat_minor": 0
}
