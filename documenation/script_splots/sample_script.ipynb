{
 "metadata": {
  "name": ""
 },
 "nbformat": 3,
 "nbformat_minor": 0,
 "worksheets": [
  {
   "cells": [
    {
     "cell_type": "code",
     "collapsed": false,
     "input": [
      "%pylab inline"
     ],
     "language": "python",
     "metadata": {},
     "outputs": [
      {
       "output_type": "stream",
       "stream": "stdout",
       "text": [
        "Populating the interactive namespace from numpy and matplotlib\n"
       ]
      }
     ],
     "prompt_number": 17
    },
    {
     "cell_type": "code",
     "collapsed": false,
     "input": [
      "import os\n",
      "from datetime import datetime, timedelta\n",
      "\n",
      "import numpy as np\n",
      "\n",
      "from gnome import scripting, initialize_log\n",
      "from gnome.basic_types import datetime_value_2d\n",
      "\n",
      "from gnome.utilities.projections import GeoProjection\n",
      "\n",
      "from gnome.model import Model\n",
      "from gnome.environment import Wind\n",
      "from gnome.movers import RandomMover, WindMover\n",
      "from gnome.spill import Spill\n",
      "from gnome.spill.release import release_from_splot_data\n",
      "from gnome.maps import MapFromBNA    # will be used once we have BNA map\n",
      "\n",
      "from gnome.outputters import Renderer\n",
      "from gnome.outputters import NetCDFOutput"
     ],
     "language": "python",
     "metadata": {},
     "outputs": [],
     "prompt_number": 18
    },
    {
     "cell_type": "code",
     "collapsed": false,
     "input": [
      "# define base directory\n",
      "base_dir = \"/Users/jasmine.sandhu/Documents/projects/gnome/py_gnome/scripts/script_splots\"\n",
      "\n",
      "def make_model():\n",
      "    print 'initializing the model'\n",
      "\n",
      "    timestep = timedelta(minutes=15)    # this is already default\n",
      "    start_time = datetime(2012, 9, 15, 12, 0)\n",
      "    model = Model(timestep, start_time)\n",
      "\n",
      "    # timeseries for wind data. The value is interpolated if time is between\n",
      "    # the given datapoints\n",
      "    series = np.zeros((4, ), dtype=datetime_value_2d)\n",
      "    series[:] = [(start_time, (5, 180)),\n",
      "                 (start_time + timedelta(hours=6), (10, 180)),\n",
      "                 (start_time + timedelta(hours=12), (12, 180)),\n",
      "                 (start_time + timedelta(hours=18), (8, 180))]\n",
      "    wind = Wind(timeseries=series, units='m/s')\n",
      "    model.environment += wind\n",
      "\n",
      "    # include a wind mover and random diffusion\n",
      "    print 'adding movers'\n",
      "    model.movers += [WindMover(wind), RandomMover()]\n",
      "\n",
      "    # add particles\n",
      "    print 'adding particles'\n",
      "    release = release_from_splot_data(start_time,\n",
      "                                      os.path.join(base_dir, 'GL.2013267._LE_WHOLELAKE.txt'))\n",
      "    model.spills += Spill(release)\n",
      "    model.rewind()\n",
      "    print 'model complete'\n",
      "    return model"
     ],
     "language": "python",
     "metadata": {},
     "outputs": [],
     "prompt_number": 23
    },
    {
     "cell_type": "code",
     "collapsed": false,
     "input": [
      "initialize_log(os.path.join(base_dir, 'log_config.json'))\n",
      "model = make_model()\n",
      "\n",
      "plt.figure('longlat')\n",
      "sc = model.spills.items()[0]   # there is only one 'forecast' spill container - no uncertianty\n",
      "\n",
      "for step in model:\n",
      "    # plot initial data\n",
      "    if step['step_num'] == 1:\n",
      "        plt.plot(sc['positions'][:, 0], sc['positions'][:, 1], 'o')\n",
      "        plt.grid()\n",
      "\n",
      "plt.plot(sc['positions'][:, 0], sc['positions'][:, 1], '.b')\n",
      "plt.xlabel('Longitude'); plt.ylabel('Latitude')\n",
      "plt.title('Initial particle positions and final particle positions')\n",
      "plt.grid()"
     ],
     "language": "python",
     "metadata": {},
     "outputs": [
      {
       "output_type": "stream",
       "stream": "stdout",
       "text": [
        "initializing the model\n",
        "adding movers\n",
        "adding particles\n",
        "model complete\n"
       ]
      },
      {
       "metadata": {},
       "output_type": "display_data",
       "png": "[encoded data removed]",
       "text": [
        "<matplotlib.figure.Figure at 0x10ab69dd0>"
       ]
      }
     ],
     "prompt_number": 26
    },
    {
     "cell_type": "code",
     "collapsed": false,
     "input": [],
     "language": "python",
     "metadata": {},
     "outputs": []
    }
   ],
   "metadata": {}
  }
 ]
}