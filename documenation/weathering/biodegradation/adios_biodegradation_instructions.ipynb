{
 "cells": [
  {
   "cell_type": "markdown",
   "metadata": {},
   "source": [
    "# <center>Development of a New Oil Biodegradation Algorithm for NOAA's Oil Spill Modelling Suite (GNOME/ADIOS</center>"
   ]
  },
  {
   "cell_type": "markdown",
   "metadata": {},
   "source": [
    "<center>\n",
    "Dalina L. Thrift-Viveros<br>\n",
    "Genwest Systems, Inc<br>\n",
    "Edmonds, WA, USA<br>\n",
    "dalina.viveros@noaa.gov<br><br>\n",
    "Robert Jones<br>\n",
    "NOAA Office of Response and Restoration, Emergency Response Division<br>\n",
    "Seattle, WA, USA<br><br>\n",
    "Michel Boufadel<br>\n",
    "New Jersey Institute of Technology<br>\n",
    "Newark, NJ, USA<br>\n",
    "</center>"
   ]
  },
  {
   "cell_type": "markdown",
   "metadata": {},
   "source": [
    "## <b><u>Abstract</u></b>"
   ]
  },
  {
   "cell_type": "markdown",
   "metadata": {},
   "source": [
    "In recent years, it has become apparent that the rate of biodegradation of oil in the environment is of great concern to oil spill responders and the community.  While it has been accepted that the long-term fate of most oil in the water column is dominated by biodegradation, the rates of degradation in the open ocean have been poorly understood, and the tools to model the process have been limited.  Many environmental factors have been shown to have an effect on biodegradation rates, including temperature, nutrient load, composition of the microbial community, oil composition, and overall surface area of the oil-water interface.  However, the interplay between these effects remains unclear.  As part of the process to upgrade the weathering algorithms in NOAA's oil spill modeling suite, we have developed a new rate law to model the biodegradation of oil in seawater based on pseudo-first-order kinetics.  The surface-area-to-mass ratio of the oil is explicitly included as a parameter that changes over the course of a modeling run, so this model can be adapted to predict biodegradation from oil droplets or surface slicks.  Oil composition is accounted for by using pseudocomponents with distinct mass fractions and biodegradation rate constants.  All other environmental factors that affect biodegradation are incorporated into the rate constants for each component.  The values for these rate constants are derived from published experimental studies.  More systematic studies are needed in order to determine the exact nature of these effects on biodegradation rates of oil."
   ]
  },
  {
   "cell_type": "markdown",
   "metadata": {},
   "source": [
    "## 1. <b><u>Introduction</u></b>"
   ]
  },
  {
   "cell_type": "markdown",
   "metadata": {},
   "source": [
    "Microbial biodegradation is an important weathering process for oil in the marine environment, ultimately accounting for the fate of much of the petroleum that enters the ocean (Head et al., 2006).  It is a complex and dynamic process whose speed can vary dramatically depending on environmental conditions, but generally takes several weeks to several months for most oil compounds (Herwig, 2013)"
   ]
  },
  {
   "cell_type": "markdown",
   "metadata": {},
   "source": [
    "Given that the response phase of most marine oil spills lasts less than a week, biodegradation does not play a major role in most oil spill responses.  However, there have been some incidents, most famously the Deepwater Horizon well blowout in 2010, where the amount of oil released, or the length of time necessary to contain the release, extended the response window into the biodegradation timeframe (Atlas and Hazen, 2011)."
   ]
  },
  {
   "cell_type": "markdown",
   "metadata": {},
   "source": [
    "As the development of new sources of oil becomes ever more technically challenging, the chances of prolonged petroleum releases and difficult responses become higher, and with them the importance of understanding how biodegradation affects the fate of oil in the ocean.  For these reasons, we have decided to include biodegradation as one of the weathering processes that will be modeled in the new version of NOAA's oil fate and transport software tool, GNOME/ADIOS, which is due to be released in 2016."
   ]
  },
  {
   "cell_type": "markdown",
   "metadata": {},
   "source": [
    "## 2. <b><u>Description of the NOAA Oil Spill Model (GNOME/ADIOS)</u></b>"
   ]
  },
  {
   "cell_type": "markdown",
   "metadata": {},
   "source": [
    "Since the biodegradation algorithm we are introducing is part of a larger modeling tool, it is necessarily constrained by the parameters of the overall model.  GNOME/ADIOS is a combination and update of two formerly separate tools developed by NOAA's Emergency Response Division.  GNOME is an oceanographic spill transport model and ADIOS is an oil fate and weathering model."
   ]
  },
  {
   "cell_type": "markdown",
   "metadata": {},
   "source": [
    "GNOME/ADIOS tracks the movement and weathering of an oil spill on water by dividing the spill volume into portions called Lagrangian elements (LEs), which are each weathered independently.  The overall amount of oil that is found on the water's surface as a slick and that is found in the water column as droplets is calculated at the beginning of a model run by taking into account user-provided weather and sea state information.  From this, the initial mass and form of the oil(surface slick or droplet) in each LE is determined.  For ease of calculation, all the droplets in a single LE are given the same diameter; the overall droplet size distribution is represented by giving each LE a different droplet size."
   ]
  },
  {
   "cell_type": "markdown",
   "metadata": {},
   "source": [
    "The petroleum product in question is chosen by the user from a database of oils that is included with the software.  The database contains a variety of crude oils as well as light, medium, and heavy refined products and unconventional products such as diluted bitumens.  The range of chemical compositions of these products is represented in the model by using a pseudocomponent system.  The pseudocomponents are defined based on boiling point and saturate or aromatic identity, and each pseudocomponent has its own set of rate constants to denote the speed at which it undergoes the various weathering processes.  The weathering processes included in GNOME/ADIOS are evaporation, dispersion, dissolution, emulsification, and biodegradation."
   ]
  },
  {
   "cell_type": "markdown",
   "metadata": {},
   "source": [
    "During a model run, the program solves all the weathering functions numerically at descrete time intervals and calculates the overall mass of oil remaining after each interval based on the mass lost due to each weathering process.  Other oil properties, such as density, are also recalculated in order to be used for the next discrete time interval."
   ]
  },
  {
   "cell_type": "markdown",
   "metadata": {},
   "source": [
    "## 3. <b><u>Environmental Variables That Affect Biodegradation</u></b>"
   ]
  },
  {
   "cell_type": "markdown",
   "metadata": {},
   "source": [
    "The rate of oil biodegradation in the ocean is affected by many factors, which presents a challenge for both experimental rate measurements and modeling.  These factors include temperature, availability of nutrients, availability of dissolved oxygen, chemical composition of the petroleum product being degraded, the surface-area-to-mass ratio of the oil in the water, the concentration of oil dispersed or dissolved in the water, and the type of bacterial community involved in consuming the oil (Atlas, 1995; Atlas and Hazen, 2011; Head et al., 2006)."
   ]
  },
  {
   "cell_type": "markdown",
   "metadata": {},
   "source": [
    "There are many experimental and field studies available that have explored the effects of each of these variables.  We know that, all else being equal, an increase in temperature (Venose and Holder, 2007), nutrient concentration (Atlas, 1995), or surface-area-to-mass ratio of the oil (Atlas and Hazen, 2011) corresponds to an increase in the rate of biodegradation.  Availability of oxygen determines whether hydrocarbons are metabolized via an aerobic or anaerobic pathway; aerobic biodegradation of petroleum compounds is a much more rapid process than anaerobic degradation (Atlas and Hazen, 2011).  It is also known that, broadly speaking, straight-chain alkanes degrade more quickly than branched alkanes, which degrade more quickly than cycloalkanes, and monocyclic aromatics degrade more quickly than small polycyclic aromatic compounds, which degrade more quickly than the asphaltenes or large polycyclic aromatic compounds (Atlas, 1995)."
   ]
  },
  {
   "cell_type": "markdown",
   "metadata": {},
   "source": [
    "In general, it seems that lower concentrations of oil lead to higher degradation rates (Lee et al., 2013).  There are several possible reasons why this is the case.  For one, it is easier to obtain a high surface-area-to-mass ratio with low concentrations of oil (Prince et al., 2013), which leads to a higher observed biodegradation rate.  Another reason is that bacterial consumption of high concentrations of oil can lead to the rapid depletion of nutrients, which would quickly limit the amount of oil lost (Lee et al., 2013).  In the high concentration case, the rate of biodegradation may be limited by the maximum growth rate of the bacteria, or by the maximum metabolic rate of the bacteria; in other words, there may simply be too much oil for the available bacteria to eat in a timely manner (Geng et al., 2014)."
   ]
  },
  {
   "cell_type": "markdown",
   "metadata": {},
   "source": [
    "Another important factor is the composition of the oil-degrading bacterial community.  Oil-degrading bacterial communities have been naturally found in seas around the world, and they are each adapted for the environment in which they are found (Atlas, 1995; for examples, see Yakimov et al., 1998; Dyksterhouse et al., 1995; Engelhardt et al., 2001; Golyshin et al., 2002; Yakimov et al., 2003; Yakimov et al., 2004).  Perturbations of the environment, such as a significant change in temperature or nutrient concentration, can alter the composition of the microbial community and possibly its ability to successfully degrade oil (Head et al., 2006; Hazen et al., 2010)."
   ]
  },
  {
   "cell_type": "markdown",
   "metadata": {},
   "source": [
    "In a prominent demonstration of the effects of an environmental mismatch, a large-scale bioremediation study was performed on the beaches of Prince William Sound, Alaska after contamination by oil released from the <i>Exxon Valdez</i> in 1989, wherein specialized oil-degrading microbes were introduced to help consume the oil.  Addition of these non-native bacteria did not substantially improve the rate of oil degradation, and by 1995 it was generally accepted that application on non-native microbes is ineffective as an oil spill response strategy (Atlas, 1995).  Therefore, it is important for those studying biodegradation to use naturally-occurring populations of bacteria kept under conditions as close to their native environments as possible in order to get realistic results."
   ]
  },
  {
   "cell_type": "markdown",
   "metadata": {},
   "source": [
    "## 4. <b><u>Description of the Biodegradation Algorithm</u></b>"
   ]
  },
  {
   "cell_type": "markdown",
   "metadata": {},
   "source": [
    "While there is a large body of published literature about oil biodegradation, the vast majority of these studies do not provide data on all of the environmental factors discussed above, so it is difficult to know how the factors influence each other or the relative magnitudes of their effects.  Therefore it is impossible to explicitly include all of thes factors as variables in the model.  However, GNOME/ADIOS does provide values for two important variables: the chemical composition of the petroleum product and the oil's surface-area-to-mass ratio over time."
   ]
  },
  {
   "cell_type": "markdown",
   "metadata": {},
   "source": [
    "The effects of the chemical composition of the oil are simulated by the pseudocomponent model, wherein the properties of the whole oil are represented as the average of the properties of the pseudocomponents, weighted by mass fraction.  The mass fraction of a given pseudocomponent varies with the type of oil product in question and changes as a particular oil product undergoes weathering."
   ]
  },
  {
   "cell_type": "markdown",
   "metadata": {},
   "source": [
    "The overall surface area of the oil-water interface and the mass of the oil in each LE is determined when GNOME/ADIOS calculates the way the oil is distributed into surface slicks and droplets.  Within each LE, the oil is split up into small volume elements whose shape and surface area depend on whether that portion of the oil spill is found as a surface slick or as droplets in the water column.  The total number of volume elements remains constant over the course of a model run."
   ]
  },
  {
   "cell_type": "markdown",
   "metadata": {},
   "source": [
    "Oil that is in a surface slick is split up into small cubes where the length of each side is equal to the thickness of the oil slick.  The only surface of the cube that is available to microbes for biodegradation is the bottom face; in other words, one-sixth of the total surface area of the cube if it were a stand-alone object.  Oil that is submerged in the water column is split up into spherical droplets, where a single volume element corresponds to a single droplet, with the entire surface area of the sphere available for biodegradation."
   ]
  },
  {
   "cell_type": "markdown",
   "metadata": {},
   "source": [
    "The model assumes that the amount of a specific pseudocomponent available at the surface is proportional to the mass fraction of the pseudocomponent in the overall mixture.  In other words, we are assuming that the oil is always well-mixed, and that there are no interactions between the oil components that would lead to non-linear volume or surface area effects."
   ]
  },
  {
   "cell_type": "markdown",
   "metadata": {},
   "source": [
    "For a single pseudocomponent $j$ within an individual volume element, the rate of biodegradation is assumed to follow a pseudo-first-order model:"
   ]
  },
  {
   "cell_type": "markdown",
   "metadata": {},
   "source": [
    "$$\n",
    "\\begin{align}\n",
    "m_j &= \\text{the mass of pseudocomponent j within the volume element } (kg)\\cr\n",
    "k_j &= \\text{the biodegradation rate constant for pseudocomponent j } (kg/(m^2 \\cdot s)) \\cr\n",
    "A &= \\text{the surface area of an individual volume element } (m^2) \\cr\n",
    "M_{element} &= \\text{the total mass of oil in the volume element } (kg) \\cr\n",
    "\\cr\n",
    "{dm_j \\over dt} &= - {A \\cdot k_j \\over M_{element}} \\cdot m_j \\qquad \\qquad \\qquad \\qquad \\boldsymbol{(eq. 1)}\\cr\n",
    "\\end{align}\n",
    "$$"
   ]
  },
  {
   "cell_type": "markdown",
   "metadata": {},
   "source": [
    "For a droplet, $A$ is the surface area of a sphere with the same diameter as the droplet.  For an element in the surface slick, the area $A$ would be $l^2$, where $l$ is the thickness of the oil slick."
   ]
  },
  {
   "cell_type": "markdown",
   "metadata": {},
   "source": [
    "<center><b><i>Begin Jamesm Comment</i></b></center>"
   ]
  },
  {
   "cell_type": "markdown",
   "metadata": {},
   "source": [
    "The quantity for LE surface area that the model will have available will most likely be the total surface area of the top side of the slick, which will be calculated by the spreading process of the model.  I don't think this inherently alters the above formula however, just a slight clarification."
   ]
  },
  {
   "cell_type": "markdown",
   "metadata": {},
   "source": [
    "<center><b><i>End Jamesm Comment</i></b></center>"
   ]
  },
  {
   "cell_type": "markdown",
   "metadata": {},
   "source": [
    "All of these parameters are technically functions of time except for $k_j$.  However, for the purposes of numerical evaluation, the surface area and the overall mass of the volume element are kept constant during a given time step and then updated before the next time step to reflect changes in mass and density.  Reflecting this method, the integrated rate law, describing the mass of pseudocomponent $j$ at time $t_{n + 1}$, is shown in the following equation:"
   ]
  },
  {
   "cell_type": "markdown",
   "metadata": {},
   "source": [
    "$$\n",
    "\\begin{align}\n",
    "\\large{m_{j, t_{n+1}}} &= \\text{the mass of pseudocomponent j at time } t_{n+1} \\cr\n",
    "\\large{m_{j, t_0}} &= \\text{the initial mass of pseudocomponent j} (\\text{mass at time } t_0) \\cr\n",
    "\\large{A_{t_n}} &= \\text{the surface area of the volume element at time } t_n \\cr\n",
    "\\large{M_{element, t_n}} &= \\text{the overall mass of the volume element at time } t_n \\cr\n",
    "\\cr\n",
    "\\Large{m_{j, t_{n+1}}} &= \\Large{m_{j, t_0} \\cdot e^{{A_{t_n} \\cdot k_j \\over M_{element, t_n}} \\cdot t_{n+1}}} \\cr\n",
    "\\end{align}\n",
    "$$"
   ]
  },
  {
   "cell_type": "markdown",
   "metadata": {},
   "source": [
    "<center><b><i>Begin Jamesm Comment</i></b></center>"
   ]
  },
  {
   "cell_type": "markdown",
   "metadata": {},
   "source": [
    "I am not sure the Gnome/Adios model is currently persisting the initial component masses.  We may need to rework this formula.  It shouldn't be too hard to do."
   ]
  },
  {
   "cell_type": "markdown",
   "metadata": {},
   "source": [
    "<center><b><i>End Jamesm Comment</i></b></center>"
   ]
  },
  {
   "cell_type": "markdown",
   "metadata": {},
   "source": [
    "Note that the sum $M_{element,t_n}$ includes <u>all</u> pseudocomponents, including those that degrade very slowly or not at all, such as asphaltenes.  These are represented as components whose rate constants $k_j$ are very small or equal to zero."
   ]
  },
  {
   "cell_type": "markdown",
   "metadata": {},
   "source": [
    "## 5. <b><u>Process of Deriving Rate Constants from the Literature</u></b>"
   ]
  },
  {
   "cell_type": "markdown",
   "metadata": {},
   "source": [
    "As described above, our biodegradation algorithm directly accounts for only the effects of surface area and chemical composition.  All the other factors which affect biodegradation are rolled into the rate constant $k_j$.  Therefore, it is very important to choose values for $k_j$ which are relevant to the types of scenarios that GNOME/ADIOS is designed to model."
   ]
  },
  {
   "cell_type": "markdown",
   "metadata": {},
   "source": [
    "A preliminary literature survey was conducted to find values for observed biodegradation rates.  The studies were limited to those whose conditions were as close as possible to the most common GNOME/ADIOS model scenario; namely, a crude oil spill on the surface of the open ocean.  Specifically, we selected measurements that fit the following criteria:"
   ]
  },
  {
   "cell_type": "markdown",
   "metadata": {},
   "source": [
    "<ul>\n",
    "    <li>Experiment was done in water only (rather than in sediment or mixed media)</li>\n",
    "    <li>Experiment was done in salt water, not fresh water</li>\n",
    "    <li>Nutrient levels were close to those found in natural seawater</li>\n",
    "    <li>Seawater was sufficiently oxygenated to allow aerobic biodegradation to occur</li>\n",
    "    <li>Oil concentrations were close to those found during a spill $(\\leq 10 \\, ppm)$</li>\n",
    "    <li>No chemical dispersants were used (or control data showing biodegradation without dispersants were available)</li>\n",
    "    <li>Naturally-occurring communities of bacteria were used</li>\n",
    "    <li>Crude oil was the petroleum product being studied (rather than refined products, single compounds, etc.)</li>\n",
    "</ul>"
   ]
  },
  {
   "cell_type": "markdown",
   "metadata": {},
   "source": [
    "By carefully selecting experiments that were as similar to our target scenario as possible, the effects of environmental factors other than surface area and composition were minimized."
   ]
  },
  {
   "cell_type": "markdown",
   "metadata": {},
   "source": [
    "In some studies, first-order rates were reported, either for specific components or for the oil mixture as a whole.  In other papers, the data were reported as changes in mass over time or as half-lives.  All of these values were converted into first-order rates and grouped by oil component."
   ]
  },
  {
   "cell_type": "markdown",
   "metadata": {},
   "source": [
    "Once average first-order rates were obtained, another calculation was necessary in order to get values for $k_j$.  The average first-order rate derived from the literature is represented by $\\alpha$ in the following equation:"
   ]
  },
  {
   "cell_type": "markdown",
   "metadata": {},
   "source": [
    "$$\n",
    "\\begin{align}\n",
    "{dm_j \\over dt} &= - \\alpha m_j \\qquad \\qquad \\qquad \\bf{(eq. 3)} \\cr\n",
    "\\end{align}\n",
    "$$"
   ]
  },
  {
   "cell_type": "markdown",
   "metadata": {},
   "source": [
    "Comparing Equation 3 to Equation 1, we see that the first-order rate needs to be divided by the surface-area-to-mass ratio of the oil in order to obtain a value for $k_j$:"
   ]
  },
  {
   "cell_type": "markdown",
   "metadata": {},
   "source": [
    "$$\n",
    "\\begin{align}\n",
    "\\alpha &= {A \\cdot k_j \\over M_{element}} \\cr\n",
    "&\\text{therefore...} \\cr\n",
    "k_j &= {\\alpha \\cdot M_{element} \\over A} \\qquad \\qquad \\bf{(eq. 4)} \\cr\n",
    "\\end{align}\n",
    "$$"
   ]
  },
  {
   "cell_type": "markdown",
   "metadata": {},
   "source": [
    "The surface-area-to-mass ratio can be calculated if a droplet size distribution or surface slick area and thickness are reported, but if such data are not available, then the ratio must be approximated."
   ]
  },
  {
   "cell_type": "markdown",
   "metadata": {},
   "source": [
    "## 6. <b><u>Preliminary Results</u></b>"
   ]
  },
  {
   "cell_type": "markdown",
   "metadata": {},
   "source": [
    "Nineteen papers were included in the preliminary literature survey, and of those, only four had data sets that met all the criteria.  The papers that fit all the criteria were Brakstad and Bonaunet, 2006; Hazen et al., 2010; McFarlin et al., 2014; and Prince et al., 2013.  Two of these studies did not provide sufficient data to calculate a surface-area-to-mass ratio.  Fortunately, both of the experiments were done with the same crude oil, so an unrelated publication was found where a droplet size distribution was reported for the same crude oil under similar conditions (Li et al., 2008), and the resulting surface-area-to-mass ratio was used instead."
   ]
  },
  {
   "cell_type": "markdown",
   "metadata": {},
   "source": [
    "All of the measurements in the final set were taken at temperatures that were either between $-1$ and $0^\\circ C$, or between $4$ and $8^\\circ C$.  The calculated $k_j$ values for each oil component within a particular temperature category were averaged together and plotted in order of component boiling point.  The results for saturates <i>(normal alkanes from C13 to C26)</i> are shown on Figure 1, and aromatics <i>(2-, 3-, and 4-ring aromatics including alkyl homologues up to C4)</i> are shown on Figure 2.  The error bars represent the maximum and minimum rate constants calculated for a given compound, and the center point represents the average of the calculated rate constants."
   ]
  },
  {
   "cell_type": "markdown",
   "metadata": {},
   "source": [
    "### <center>TODO: build figure 1 from code & data sets</center>"
   ]
  },
  {
   "cell_type": "markdown",
   "metadata": {},
   "source": [
    "### <center>TODO: build figure 2 from code & data sets</center>"
   ]
  },
  {
   "cell_type": "markdown",
   "metadata": {},
   "source": [
    "A surprising result that is made very clear in Figure 1 is that there is no strong correlation between biodegradation rate constant and compound boiling point for the normal alkanes from C13 to C26, which is contrary to conventional wisdom.  A similar result can be seen in Figure 2, where the aromatics that boil below about $630^\\circ K$ all have similar rate constants (within an experimental temperature category), and the aromatics that boil above $630^\\circ K$ also have about the same rate constant, albeit a lower one.  There are several possible reasons for the lack of a trend.  It is possible that one of the factors that is not being directly accounted for controls the rate of the biodegradation process.  Another possibility is that these results are artifacts of the small number of data points used to generate the rate constants.  On the other hand, it is also possible that the intrinsic biodegradation rate really is about the same for certain groups of compounds and there is no reason for surprise.  More data and analysis are needed in order to shed light on this result."
   ]
  },
  {
   "cell_type": "markdown",
   "metadata": {},
   "source": [
    "## 7. <b><u>Proof of Concept</u></b>"
   ]
  },
  {
   "cell_type": "markdown",
   "metadata": {},
   "source": [
    "A limited version of the GNOME/ADIOS weathering algorithm, only including biodegradation, was constructed in order to be able to compare the mass loss predicted by the model to experimental observations of the biodegradation of crude oil.  The experimental data set shown in Figure 3 comes from Prince et al., 2013 and describes the biodegradation of Alaska North Slope crude oil in natural seawater collected off the shore of New Jersey and kept at $8^\\circ C$.\n",
    "It is important to note that this particular dataset was not used to calculate the component-specific rate constants, since the data was reported for whole oil and not individual components.  Therefore, even though other datasets from this paper were used to calculate rate constants, this dataset can serve as a valid independent reference with which to compare the model results.  The weathering algorithm was run using the rate constants corresponding to the $4$ to $8^\\circ C$ experiments, with a surface-area-to-mass ratio calculated using droplet size distribution data from Li et al., 2008 and with chemical composition data adapted from an assay of Alaska North Slope crude performed by BP in 2010 (BP Oil International Libited, 2010)."
   ]
  },
  {
   "cell_type": "markdown",
   "metadata": {},
   "source": [
    "### <center>TODO: build figure 3 from code & data sets</center>"
   ]
  },
  {
   "cell_type": "markdown",
   "metadata": {},
   "source": [
    "Although the model underpredicts the extent of biodegradation after forty-two days, this result stands as a proof of concept that the method described in this paper is reasonable and can provide realistic, if conservative, values for the amount of oil lost to biodegradation over time.  This result is especially encouraging given the uncertainty inherent in all the approximations that were made to develop the model to this point.  The predictions made by the model can only get better with the inclusion of more data and with the analysis of other environmental variables, which we plan to incorporate into future versions of the biodegradation model."
   ]
  },
  {
   "cell_type": "markdown",
   "metadata": {},
   "source": [
    "## 8. <b><u>Conclusions and Future Work</u></b>"
   ]
  },
  {
   "cell_type": "markdown",
   "metadata": {},
   "source": [
    "A new algorithm to predict biodegradation of crude oil in the ocean, as well as the efforts made towards providing realistic rate constants for the algorithm based on experimental data, has been described.  This algorithm was written as part of the development of the new version of NOAA Emergency Response Division's GNOME/ADIOS oil spill modeling software and directly accounts for the effects of surface-area-to-mass ratio and chemical composition of the oil on the rate of biodegradation.  It is flexible enough to handle oils with a variety of chemical compositions as well as oil in the form of droplets or a surface slick."
   ]
  },
  {
   "cell_type": "markdown",
   "metadata": {},
   "source": [
    "The next step for this project is to incorporate more data sets from the literature into the calculation process for the rate constants.  This will provide a stronger empirical basis for the model output.  Another near-term goal is to perform the same analysis described in this paper for other scenarios that can be modeled by GNOME/ADIOS, such as a spill of refined petroleum products, or a spill in a freshwater system."
   ]
  },
  {
   "cell_type": "markdown",
   "metadata": {},
   "source": [
    "A more ambitious goal is to incorporate Monod kinetics into the model.  Monod kinetics have long been used in environmental engineering to describe the effects of nutrient and oxygen concentrations on microbial growth and relate microbial population kinetics to the degradation of target pollutants.  Inclusion of this type of information into our model would allow us to directly model the effects of oil, nutrient, and oxygen concentrations on microbial biodegradation, resulting in much more detailed and accurate predictions.  Development of this model requires experimental data that is much more systematic than what is currently published, so experiments are currently underway in Prof, Boufadel's lab to provide data to support this more extensive model."
   ]
  },
  {
   "cell_type": "markdown",
   "metadata": {},
   "source": [
    "## 9. <b><u>Acknowledgements</u></b>"
   ]
  },
  {
   "cell_type": "code",
   "execution_count": null,
   "metadata": {
    "collapsed": true
   },
   "outputs": [],
   "source": []
  }
 ],
 "metadata": {
  "kernelspec": {
   "display_name": "Python 2",
   "language": "python",
   "name": "python2"
  },
  "language_info": {
   "codemirror_mode": {
    "name": "ipython",
    "version": 2
   },
   "file_extension": ".py",
   "mimetype": "text/x-python",
   "name": "python",
   "nbconvert_exporter": "python",
   "pygments_lexer": "ipython2",
   "version": "2.7.11"
  }
 },
 "nbformat": 4,
 "nbformat_minor": 0
}
