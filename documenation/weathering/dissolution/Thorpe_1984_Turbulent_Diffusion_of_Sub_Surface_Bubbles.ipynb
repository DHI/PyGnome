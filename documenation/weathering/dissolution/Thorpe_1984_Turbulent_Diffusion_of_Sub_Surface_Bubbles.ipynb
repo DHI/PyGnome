{
 "cells": [
  {
   "cell_type": "markdown",
   "metadata": {
    "collapsed": true
   },
   "source": [
    "# <center>A Model of the Turbulent Diffusion of Bubbles Below the Sea Surface</center>"
   ]
  },
  {
   "cell_type": "markdown",
   "metadata": {},
   "source": [
    "#### <center>S. A. Thorpe</center>"
   ]
  },
  {
   "cell_type": "markdown",
   "metadata": {},
   "source": [
    "#### <center><i>Institute of Oceanographic Sciences, Wormley, Godalming, Surrey, GU8 5UB, U. K.</i></center>"
   ]
  },
  {
   "cell_type": "markdown",
   "metadata": {},
   "source": [
    "## <center>Abstract</center>"
   ]
  },
  {
   "cell_type": "markdown",
   "metadata": {},
   "source": [
    "Bubbles produced by breaking wind waves are carried by turbulence below the sea surface.  In an earlier model of the distribution of bubble sizes with depth it was necessary to neglect certain terms in order to formulate a differential equation which was solved numerically.\n",
    "A model is devised in which this procedure is avoided.  Turbulence is represented by a random walk or Monte Carlo simulation, and each bubble introduced at the surface is followed and a tally kept on its changing radius.  Bubbles are continually introduced until a steady state is reached, when the distributions, gas fluxes, and acoustic scattering cross-sections are calculated.\n",
    "The results are compqared with camera observations reported by Johnson and Cooke.  The major contribution to both gas flux and to the acoustic scattering cross-section per unit volume at sonar frequencies of 248 KHz (corresponding to that which we have used to observe bubbles) comes from bubbles which, at the surfeace, have radii between ~40 and 100 $\\mu$m.\n",
    "The model successfully reproduces the variation of the total number of bubbles with depth, but fails to describe the observed shape of the size distribution.  Factors contributing to this discrepancy are discussed.  It is possible that bubble populations measured by floating cameras are biased because of the effects of Langmuir circulation both on the float and on the bubbles."
   ]
  },
  {
   "cell_type": "markdown",
   "metadata": {},
   "source": [
    "<hr>"
   ]
  },
  {
   "cell_type": "markdown",
   "metadata": {},
   "source": [
    "## 1. Introduction"
   ]
  },
  {
   "cell_type": "markdown",
   "metadata": {},
   "source": [
    "Subsurface bubbles formed by breaking wind waves have been subject to investigation for some time, primarily because of their role in the formation of aerosols when the bubbles burst on returning to the surface (Blanchard and Woodcock, 1957; Mason, 1971), but also because of their effect on underwater sound propagation (Urick, 1975), their action in scavenging particles or of creating particle amalgams when they dissolve (Johnson and Cooke, 1980), their production of foam (their surface counterpart, Monahan and O'Muircheartaigh, 1980) and their presence in spilling breakers (Longuet-Higgins and Turner, 1974).\n",
    "Interest in the downward diffusion of bubbles by turbulence, and the physics of \"bubble clouds\", has recently been excited by the discovery that they can be detected by subsurface, upward-pointing, sonar (Aleksandrov and Vaindruk, 1974; Thorpe, 1982, hereafter referred to as I; Thorpe and Hall, 1983).\n",
    "There is a need to devise reliable models of the bubbles if the sonar measurements are to be used to infer characteristics of the turbulence (Thorpe, 1984a) or the gas flux carried into the water via the bubbles (Thorpe, 1984b)."
   ]
  },
  {
   "cell_type": "markdown",
   "metadata": {},
   "source": [
    "The equations representing the dynamics of bubbles, formulated in terms of their mean size distribution per unit  volume and unit radius $N(a, z)$, where $a$ is the radius of a bubble $z$, were described by Garrettson (1973). In I the equations, in particular the terms representing the flux of $N$ in radius space, were simplified by making assumptions about the relative scales over which contributing terms were supposed to vary and by neglecting terms representing bubble accelerations.\n",
    "Although these assumptions appeared reasonable, some doubt remained about their validity.  There was also difficulty in modeling bubbles composed of more than one gas.  We have therefore devised a more direct means of modeling the bubbles, one in which each bubble is represented by a particle, the motion of which is described using a Monte Carlo simulation.\n",
    "This formulation has the advantage that fluxes can be better represented, bubble composition can vary, and mean flows can easily be included.  One such type of flow is that due to Langmuir circulations (Leibovich, 1983) and this aspect of the model will be described elsewhere (Thorpe, 1984c).  The present formulation has the disadvantage of being appropriate only when the diffusion coefficient is uniform in depth.\n",
    "The technique of simulating a turbulent flow by random motioins and of following individual particles is not new, but it appears not to have been tried before in this context and, as we have mentioned, avoids difficulties inherent in other methods."
   ]
  },
  {
   "cell_type": "markdown",
   "metadata": {},
   "source": [
    "The results will be compared with the observations made by Johnson and Cooke (1979, hereafter JC) using a camera supported by a surface float.  Bubble size distributions were reported at three depths (0.7m, 1.8m, and 4.0m), in winds of 11-13 $m / s$.  The distributions peaked at all depths at radii of about $50 \\mu m$, and the numbers decreased rapidly on either side of the peak and also rapidly with depth.  The camera could not resolve bubbles smaller than $17 \\mu m$.\n",
    "Discrepancies between these observations and the predictions of the model are found which draw attention to the need for a better understanding of the physics of the near-surface ocean and for more comprehensive observations of bubble distributions themselves."
   ]
  },
  {
   "cell_type": "markdown",
   "metadata": {},
   "source": [
    "## 2. The Model"
   ]
  },
  {
   "cell_type": "markdown",
   "metadata": {},
   "source": [
    "Several processes contribute to the way a small bubble moves in turbulent flow.  The bubble rises under the action of buoyancy forces but responds to the turbulent motions which tend to advect it.  Provided the bubble is sufficiently small in comparison with the Kolmogorov scale, as will generally be the case except perhaps in the breaking waves where there are large bubbles and large dissipation so that the turbulent scale is small, we may suppose that its motion $u$ is the sum of the local turbulent fluctuations $v$ and the vertical speed with which the bubble would rise in a quiescent fluid, $-w_b z$, where $z$ is the unit downward vector:"
   ]
  },
  {
   "cell_type": "markdown",
   "metadata": {},
   "source": [
    "$$\n",
    "\\begin{align}\n",
    "u &= v - w_b z \\qquad \\qquad \\qquad \\boldsymbol{(eq. 1)} \\cr\n",
    "\\end{align}\n",
    "$$"
   ]
  },
  {
   "cell_type": "markdown",
   "metadata": {},
   "source": [
    "There are then those processes which change the radius, $a$, of the bubble, and hence $w_b$.  There is compression under the combined effects of hydrostatic pressure $(p)$ and surface tension $(\\gamma)$ and the loss of gas by diffusion across the surface of the bubble.  Following the discussion in I (Section 3.2) we may write:"
   ]
  },
  {
   "cell_type": "markdown",
   "metadata": {},
   "source": [
    "$$\n",
    "\\begin{align}\n",
    "\\dot a_1 &= \\text{the rate of change of radius due to gas flux} \\cr\n",
    "\\dot a_2 &= \\text{the rate of change of radius due to pressure variation} \\cr\n",
    "\\cr\n",
    "{da \\over dt} &= \\dot a_1 + \\dot a_2 \\qquad \\qquad \\qquad \\boldsymbol{(eq. 2)} \\cr\n",
    "\\end{align}\n",
    "$$"
   ]
  },
  {
   "cell_type": "markdown",
   "metadata": {},
   "source": [
    "$\\dot a_1$ is calculated as:"
   ]
  },
  {
   "cell_type": "markdown",
   "metadata": {},
   "source": [
    "$$\n",
    "\\begin{align}\n",
    "R &= \\text{the gas constant } (8.31 \\cdot 10^{-3} \\,\\, m^3 kPa / K) \\cr\n",
    "T &= \\text{the temperature } (283 K) \\cr\n",
    "p &= \\text{the hydrostatic pressure} \\cr\n",
    "a &= \\text{the radius of the bubble} \\cr\n",
    "\\gamma &= \\text{surface tension} \\cr\n",
    "\\cr\n",
    "D_i &= \\text{diffusivity of gas i} \\cr\n",
    "K_i &= \\text{adsorption coefficient of gas i} \\cr\n",
    "N_i &= \\text{Nusselt number of gas i} \\cr\n",
    "p_{i0} &= \\text{partial pressure in the water far from the bubble for gas i} \\cr\n",
    "x &= \\text{mole fraction in the bubble} \\cr\n",
    "\\cr\n",
    "\\dot a_1 &= {-3 RT \\over 3pa + 4 \\gamma} \\left\\{ D_1 K_1 N_1 \\left[ x \\left(p + {2 \\gamma \\over a} \\right) - p_{10} \\right] + D_2 K_2 N_2 \\left[ (1 - x) \\left(p + {2 \\gamma \\over a} \\right) - p_{20} \\right] \\right\\} \\qquad \\qquad \\boldsymbol{(eq. 3)} \\cr\n",
    "\\end{align}\n",
    "$$"
   ]
  },
  {
   "cell_type": "markdown",
   "metadata": {},
   "source": [
    "And $\\dot a_2$ is calculated as:"
   ]
  },
  {
   "cell_type": "markdown",
   "metadata": {},
   "source": [
    "$$\n",
    "\\begin{align}\n",
    "\\dot a_2 &= {- a^2 \\over 3pa + 4 \\gamma } {dp \\over dt} \\qquad \\qquad \\qquad \\boldsymbol{(eq. 4)} \\cr\n",
    "\\end{align}\n",
    "$$"
   ]
  },
  {
   "cell_type": "markdown",
   "metadata": {},
   "source": [
    "Here we have assumed that the bubble is composed of two gases, (subscript $i$ = 1, 2) with partial pressures $p_{i0}$ in the water far from the bubble, diffusivities $D_i$, adsorption coefficients $K_i$, and Nusselt numbers $N_i$, and that one gas has mole fraction $x$ in the bubble (the other gas has $1 - x$) where:"
   ]
  },
  {
   "cell_type": "markdown",
   "metadata": {},
   "source": [
    "$$\n",
    "\\begin{align}\n",
    "{dx \\over dt} &= {3 RT \\over a(pa + 2 \\gamma)} \\left\\{ D_2 K_2 N_2 x \\left[ (1 - x) \\left(p + {2 \\gamma \\over a} \\right) - p_{20} \\right] - D_1 K_1 N_1 (1 - x) \\left[ x \\left(p + {2 \\gamma \\over a} \\right) - p_{10} \\right] \\right\\} \\qquad \\qquad \\boldsymbol{(eq. 5)} \\cr\n",
    "\\end{align}\n",
    "$$"
   ]
  },
  {
   "cell_type": "markdown",
   "metadata": {},
   "source": [
    "In (eq. 5) the dimensional coefficients are chosen to represent oxygen $(i = 1)$ and nitrogen $(i = 2)$.  The values used are:"
   ]
  },
  {
   "cell_type": "markdown",
   "metadata": {},
   "source": [
    "$$\n",
    "\\begin{align}\n",
    "D_1 &= D_2 = 2 \\cdot 10^{-5} \\,\\, cm^2/s \\cr\n",
    "K_1 &= 0.49 \\,\\, g/(m^3 \\cdot kPa) \\cr\n",
    "K_2 &= 0.21 \\,\\, g/(m^3 \\cdot kPa) \\cr\n",
    "v &= 1.0 \\cdot 10^{-2} \\,\\, cm^2 / s \\,\\, (\\text{kinematic viscosity}) \\cr\n",
    "\\gamma &= 3.6 \\cdot 10^{-2} \\,\\, N / m \\cr\n",
    "g &= 981 \\,\\, cm / s^2 \\cr\n",
    "x &= x_0 = 0.215 \\,\\, (\\text{an air mixture of the gases}) \\cr\n",
    "\\end{align}\n",
    "$$"
   ]
  },
  {
   "cell_type": "markdown",
   "metadata": {},
   "source": [
    "The value of $w_b$ and $N_i$ depend upon the nature of the bubble surface.  Generally bubbles in the ocean will be covered by a surface active film which inhibits tangential motion and causes the bubbles to behave dynamically like solid spheres.  In clouds of bubbles other effects may be important, particularly coalescence and the dynamical interaction of bubbles, but provided the number of bubbles per unit volume and their volume fraction are small these may be neglected.  These and other assumptions inherent in the modeling are discussed in detail in I and by Thorpe (1984d)."
   ]
  },
  {
   "cell_type": "markdown",
   "metadata": {},
   "source": [
    "Turbulence is simulated in the numerical scheme by displacements of the water surrounding a bubble through a distance $L$ in a random direction $\\theta$ in $y, z$ space at each time step.  From (eq. 1) the horizontal and vertical bubble displacements $(\\Delta y, \\Delta z)$ are then:"
   ]
  },
  {
   "cell_type": "markdown",
   "metadata": {},
   "source": [
    "$$\n",
    "\\begin{align}\n",
    "&\\left. {\\Delta y = L sin \\theta \\atop  \\Delta z = L cos \\theta - w_b \\Delta t} \\right\\} \\qquad \\qquad \\boldsymbol{(eq. 6)} \\cr\n",
    "\\end{align}\n",
    "$$"
   ]
  },
  {
   "cell_type": "markdown",
   "metadata": {},
   "source": [
    "Where $w_b$ is a function of bubble radius.  Following I, we took:"
   ]
  },
  {
   "cell_type": "markdown",
   "metadata": {},
   "source": [
    "$$\n",
    "\\begin{align}\n",
    "a &= \\text{the radius of the bubble} \\cr\n",
    "\\mathscr{y} &= \\text{vertical speed of bubbles to within 20% if } a < 400 \\mu m \\cr\n",
    "&= 10.82 v^2 / ga^3 \\cr\n",
    "\\cr\n",
    "w_b &= {2 \\over 9} \\left( a^2 g \\over v \\right) \\left[ (\\mathscr{y}^2 + 2 \\mathscr{y})^{1/2} - \\mathscr{y} \\right] \\qquad \\qquad \\boldsymbol{(eq. 7)} \\cr\n",
    "\\end{align}\n",
    "$$"
   ]
  },
  {
   "cell_type": "markdown",
   "metadata": {},
   "source": [
    "The effective vertical turbulent diffusion coefficient (see Csanady, 1973) is:"
   ]
  },
  {
   "cell_type": "markdown",
   "metadata": {},
   "source": [
    "$$\n",
    "\\begin{align}\n",
    "K_v &= {L^2 \\over 4 \\Delta t} \\qquad \\qquad \\qquad \\boldsymbol{(eq. 8)} \\cr\n",
    "\\end{align}\n",
    "$$"
   ]
  },
  {
   "cell_type": "markdown",
   "metadata": {},
   "source": [
    "The bubble radius is changed at each time step $\\Delta t$ by the first-order finite difference representation of (2) with values of $N_i$ fitted to theoretical estimates as described in I:"
   ]
  },
  {
   "cell_type": "markdown",
   "metadata": {},
   "source": [
    "$$\n",
    "\\begin{align}\n",
    "a &= \\text{bubble radius in } \\mu m \\cr\n",
    "P_i &= \\text{P} \\acute e \\text{clet numbers} \\cr\n",
    "&= a w_b / D_i, \\,\\, (i = 1, 2) \\cr\n",
    "\\cr\n",
    "N_i &= \\left\\{ \\array{ 1 & \\text{if} & a < 4.5 \\cr 1.292 P_i^{1/9} & \\text{if} & 4.5 < a < 28.1 \\cr (2 / \\pi) P_i^{1/3} & \\text{if} & 28.1 < a } \\right. \\qquad \\qquad \\boldsymbol{(eq. 9)}\n",
    "\\end{align}\n",
    "$$"
   ]
  },
  {
   "cell_type": "markdown",
   "metadata": {},
   "source": [
    "We introduce bubbles of sizes (in $\\mu m$) of 10m where $1 < m < M$ (with $M$ usually chosen as 20, so that the largest are of radius $200 \\mu m$)."
   ]
  },
  {
   "cell_type": "code",
   "execution_count": 7,
   "metadata": {
    "collapsed": false
   },
   "outputs": [
    {
     "name": "stdout",
     "output_type": "stream",
     "text": [
      "[  10.   20.   30.   40.   50.   60.   70.   80.   90.  100.  110.  120.\n",
      "  130.  140.  150.  160.  170.  180.  190.  200.]\n"
     ]
    }
   ],
   "source": [
    "import numpy as np\n",
    "print np.linspace(1, 20, 20) * 10.0"
   ]
  },
  {
   "cell_type": "markdown",
   "metadata": {},
   "source": [
    "We introduce these bubbles at the surface, $z = 0$, at each time $n \\Delta t$, and follow them until they pass back through $z = 0$ or their radius becomes less than $1 \\mu m$, when they are lost from the system, or until a time $T = N \\Delta t$, when a steady state is reached.\n",
    "Bubbles of size less than $1 \\mu m$ dissolve very rapidly and contribute negligibly to the gas flux or to the sound scattering, having a radius much less than the resonant radius of the sonar we used.  The model was tested with values of $\\Delta t$ between 1 and 5 s."
   ]
  },
  {
   "cell_type": "markdown",
   "metadata": {},
   "source": [
    "A value $T = 400s$ was sufficient for a steady state to be reached for $K_v$ in the range $64 < K_v < 320 \\,\\, cm^2/s$.\n",
    "This is consistent with the estimates of bubble lifetimes by Blanchard and Woodcock (1957), those in I, and direct observations of the duration of bubble clouds, typically 1 min, by Thorpe and Hall (1983).  It was necessary to introduce a large number of bubbles since a high proportion was quickly lost by returning to the surface.  In most of the simulations described below, 600 bubbles of each size were introduced at $z = 0$ at each time step.\n",
    "For $K_v$ in the range $64 < K_v < 256$:\n",
    "<ul>\n",
    "    <li>more than 98% of the bubbles introduced at the surface with radii > $100 \\mu m$ have returned to $z = 0$ by time $T$</li>\n",
    "    <li>between 2 and 10% of the bubbles introduced with radii between 20 and 60 $\\mu m$ remain in the water or have dissolved.\n",
    "    </li>\n",
    "</ul>"
   ]
  },
  {
   "cell_type": "markdown",
   "metadata": {},
   "source": [
    "The numerical scheme was first tested by fixing $w_b = 0.54 \\,\\, cm/s$, selected since this is the rise speed of bubbles of radius $50 \\mu m$ (i.e., corresponding to the peak in the size distributions reported by JC), and by allowing each bubble to decay at a rate $\\sigma$.  This was chosen as $0.018 s^{-1}$ which gives results consistent with more complex simulations (Thorpe, 1984a) and bubble lifetimes of about 1 min.  Diffusion can then be described analytically by an equation for the bubble concentration $C$ per unit volume:"
   ]
  },
  {
   "cell_type": "markdown",
   "metadata": {},
   "source": [
    "$$\n",
    "\\begin{align}\n",
    "-w_b {dC \\over dz} &= K_v {d^2 C \\over dz^2} - \\sigma C \\qquad \\qquad \\boldsymbol{(eq. 10)}\n",
    "\\end{align}\n",
    "$$"
   ]
  },
  {
   "cell_type": "markdown",
   "metadata": {},
   "source": [
    "where $K_v$ is independent of $z$."
   ]
  },
  {
   "cell_type": "markdown",
   "metadata": {},
   "source": [
    "Eq. 10 has the solution"
   ]
  },
  {
   "cell_type": "markdown",
   "metadata": {},
   "source": [
    "$$\n",
    "\\begin{align}\n",
    "ln C &\\propto -\\alpha z \\cr\n",
    "&\\text{where...} \\cr\n",
    "K_v &= w_b \\alpha^{-1} + \\sigma \\alpha^{-2} \\cr\n",
    "\\end{align}\n",
    "$$"
   ]
  },
  {
   "cell_type": "markdown",
   "metadata": {},
   "source": [
    "The simulation was run with a range of values of $N$ and $\\Delta t$, and good agreement was found both for the form of the $ln C$ versus $z$ distribution and for the values of $K_v$ determined from its slope and Eq. 8, provided $L / \\Delta t > w_b$, i.e., that the effective turbulent velocity exceeds the rise speed.  If it does not, no bubbles are carried below the surface."
   ]
  },
  {
   "cell_type": "markdown",
   "metadata": {},
   "source": [
    "As formulated, the model assumes that the numbers of bubbles generated at the surface by breaking waves are uniformly distributed in radius.  This is unlikely to be the case.  Certainly there must be an upper limit to the size of bubbles produced by spilling waves or overturning breakers;  the trapped air pockets are finite.\n",
    "The larger bubbles will rapidly return to the surface or become unstable and produce a spectrum of small bubbles by fragmentation.  The mean size distribution very close to the surface is unfortunately unknown.\n",
    "We might however fit our results to the measurements of JC at 0.7 m in winds of $11-13 m/s$, or adopt some imaginary distribution, and we shall describe the effects of this selection in section 3.2.\n",
    "Since the JC data provide a suitable reference we have chosen to focus our results on the value $K_v = 180 cm^2 / s$ which other models (Thorpe, 1984a) suggest is an appropriate value for winds of about $12 m / s$.  We shall also present results predicting the bubble distributions at the three depths (0.7m, 1.8m, 4.0m) at which JC's measurements were made."
   ]
  },
  {
   "cell_type": "markdown",
   "metadata": {},
   "source": [
    "In particular we assess the importance of each bubble size ($10m \\,\\, \\mu m$) introduced at the surface.  We shall show how they determine the distribution of bubbles at depth and contribute to the gas flux and to the acoustic scattering cross-section per unit volume $M_v$.  This is defined as a sum over the bubbles contained in a unit volume at time $T$ of $\\sigma_1$, the bubble scattering cross-section, where:"
   ]
  },
  {
   "cell_type": "markdown",
   "metadata": {},
   "source": [
    "$$\n",
    "\\begin{align}\n",
    "\\delta &= \\text{the damping coefficient} \\cr\n",
    "\\omega &= \\text{the sonar frequency} \\cr\n",
    "\\cr\n",
    "\\sigma_1 &= {4 \\pi a^2 \\over (1 - \\omega_0^2 / \\omega^2)^2 + \\delta^2} \\qquad \\qquad \\boldsymbol{(eq. 11)} \\cr\n",
    "\\end{align}\n",
    "$$"
   ]
  },
  {
   "cell_type": "markdown",
   "metadata": {},
   "source": [
    "Devin (1959) gives values of the damping coefficient, and the sonar frequency is 248 KHz.  The bubble resonant frequency $w_0$ is determined by:"
   ]
  },
  {
   "cell_type": "markdown",
   "metadata": {},
   "source": [
    "$$\n",
    "\\begin{align}\n",
    "\\gamma ' &= \\text{the ratio of specific heats, } C_p / C_v \\cr\n",
    "\\rho &= \\text{the density of water} \\cr\n",
    "\\cr\n",
    "\\omega_0 &= {1 \\over 2 \\pi a} \\left( 3 \\gamma ' p \\over \\rho \\right)^{1/2} \\qquad \\qquad \\boldsymbol{(eq. 12)} \\cr\n",
    "\\end{align}\n",
    "$$"
   ]
  },
  {
   "cell_type": "markdown",
   "metadata": {},
   "source": [
    "In practice we estimate $M_v$ by summing $\\sigma_1$ over the bubbles within $\\pm 10 cm$ of the depth level at which $M_v$ is to be determined and by taking the appropriate average.  The gas flux is similaly a sum at time $T$ of the flux occurring from each bubble which then remains in $z > 0$."
   ]
  },
  {
   "cell_type": "markdown",
   "metadata": {},
   "source": [
    "## 3. Results"
   ]
  },
  {
   "cell_type": "markdown",
   "metadata": {},
   "source": [
    "### <i>a. Uniform input of bubbles</i>"
   ]
  },
  {
   "cell_type": "markdown",
   "metadata": {},
   "source": [
    "<center><b>Figure 1.  TBD</b></center>"
   ]
  },
  {
   "cell_type": "markdown",
   "metadata": {},
   "source": [
    "Figure 1 shows the number of bubbles in each $10 \\mu m$ size range within $\\pm 10$ cm of the three reference depths.  In this case 1200 bubbles of each size were released at the surface at each time interval with $\\Delta t = 5 s$.\n",
    "we took $K_v = 180 cm^2 / s$ and both gases were 100% saturated in the water, so that $p_{10} = 0.215 p_0$ and $p_{20} = 0.785 p_0$, where $p_0$ is atmospheric pressure.<br>\n",
    "The percentage super-saturation levels $(s_i)$ are given by:"
   ]
  },
  {
   "cell_type": "markdown",
   "metadata": {},
   "source": [
    "$$\n",
    "\\begin{align}\n",
    "s_1 &= 100 \\cdot {p_{10} \\over x_0 p_0 } \\cr\n",
    "s_2 &= 100 \\cdot {p_{20} \\over (1 - x_0) p_0 } \\cr\n",
    "\\end{align}\n",
    "$$"
   ]
  },
  {
   "cell_type": "markdown",
   "metadata": {},
   "source": [
    "so that $s_1 = 3$ implies an oxygen saturation level in the water of 103%.<br>\n",
    "Very small bubbles dissolve rapidly ($a_1 \\propto a^{-1}$ in eq. 3 for small $a$) while large bubbles, having the largest $w_b$, return quickly to the surface and are lost.  The distributions at each depth thus have a peak, and Figure 1 shows that this tends to smaller radii as depth increases.\n",
    "The total number of bubbles decreases rapidly with depth, the effect being most notable for the larger bubbles which are absent at 4 m.  The lines joining the crosses are labeled with values of $m$, and indicate the contribution to each $10 \\mu m$ bubble size range from bubbles of size $10m \\,\\, \\mu m$ introduced at the surface.  At 0.7 m this contribution is primarily to a size range within $30 \\mu m$ of the size of the bubble at the surface.\n",
    "At 1.8 m the major contribution at each size comes from bubbles which, at the surface, were at least $10 \\mu m$ larger.\n",
    "The major contributions at 4.0 m are from bubbles which at the surface have radii between 60 and 100 $\\mu m$."
   ]
  },
  {
   "cell_type": "markdown",
   "metadata": {},
   "source": [
    "The ordinate in Figure 2 represents the contribution to the flux into the water of nitrogen $F_N$, from bubbles for each input size $m$ when 600 bubbles of each size are introduced at each time step, $\\Delta t = 5 s$.  Again $K_v = 180 cm^2 / s$, but here various values of $s (= s_1, = s_2)$ are shown.\n",
    "As the saturation level increases the flux at all sizes decreases, eventually becoming negative for large bubbles which thus remove gas from the water <i>(see Wyman et al., 1952, and I for further discussion of this effect)</i>.<br>\n"
   ]
  },
  {
   "cell_type": "markdown",
   "metadata": {},
   "source": [
    "In Figure 3 we show the histogram of bubble numbers per $10 \\mu m$ range at the three depths for values of $s = s_1 = s_2$ between -3 and +9.  The distributions appear to be substantially independent of $s$, at least up to $s = +6$, approximately the same number of bubbles appearing in each radius bin with no systematic trends, in spite of the changes in net flux.\n",
    "There seem however to be rather fewer bubbles in the 20-100 $\\mu m$ band when $s = +9$."
   ]
  },
  {
   "cell_type": "markdown",
   "metadata": {},
   "source": [
    "Figure 4 shows the contributions to the scattering cross sections $M_v$ at each depth from the bubble whose sizes, when introduced at the surface, were $10 m \\,\\, \\mu m$; $M_v$ increases with $m$ at 0.7 m.<br>\n",
    "At radii much greater than the resonant bubble radius:"
   ]
  },
  {
   "cell_type": "markdown",
   "metadata": {},
   "source": [
    "$$\n",
    "\\begin{align}\n",
    "a_r &= {1 \\over 2 \\pi \\omega} \\left( 3 \\gamma' p \\over \\rho \\right)^{1/2} \\qquad \\qquad \\boldsymbol{(eq. 13)} \\cr\n",
    "\\end{align}\n",
    "$$"
   ]
  },
  {
   "cell_type": "markdown",
   "metadata": {},
   "source": [
    "(about 14 $\\mu m$ at 1 m depth when $\\omega$ = 248 KHz), the scattering cross-section $\\sigma_1$ (eq. 11) is approximately $4 \\pi a^2$, and so $M_v$ is approximately equal to the area of the bubbles.  The figure shows that at 0.7 m the area of bubbles increases with $m > 5$.  At 1.8 m the area is almost independent of $m$.  The scattering cross sections and the areas decrease rapidly with depth."
   ]
  },
  {
   "cell_type": "markdown",
   "metadata": {},
   "source": [
    "The figures show however that an input distribution of bubbles which is independent of size $m$ provides far too many large bubbles in relation to those of radii near 50 $\\mu m$.  The ratio of the numbers of bubbles observed by JC at 0.7 m having radii between 42 and 60 $\\mu m$ to those between 196 and 212 $\\mu m$ was about 100:1.  This ratio is only about 2.5:1 in Figure 1a.  We shall bias the input to reflect the observed trend.  this is also necessary to remove the divergent trend of $M_v$ with increasing $m$ shown in Figure 4 at 0.7 m."
   ]
  },
  {
   "cell_type": "markdown",
   "metadata": {},
   "source": [
    "<center><b>Figure 2.  TBD</b></center>"
   ]
  },
  {
   "cell_type": "markdown",
   "metadata": {},
   "source": [
    "<center><b>Figure 3.  TBD</b></center>"
   ]
  },
  {
   "cell_type": "markdown",
   "metadata": {},
   "source": [
    "<center><b>Figure 4.  TBD</b></center>"
   ]
  },
  {
   "cell_type": "markdown",
   "metadata": {},
   "source": [
    "### <i>b. Input varying with bubble radius</i>"
   ]
  },
  {
   "cell_type": "markdown",
   "metadata": {},
   "source": [
    "To find the appropriate bias to apply to the surface input of bubbles so that their summed contributions fit a particular distribution at depth (e.g., JC at 0.7 m), it is necessary to solve a set of simultaneous equations.  If the distribution to be fitted is $P(n), 1 \\leq n \\leq n_{max}$, where $P$ is the number of bubbles per unit volume in the radius band $10(n - 1) < a < 10n$, adn if from the given surface input there are $Q(m, n)$ bubbles found at the depth per unit volume per radius band [$10(n - 1) < a < 10n$] from input at radius 10 $\\mu m$, $m \\leq 20$, then we need to find bias factors $r(m)$ such that:"
   ]
  },
  {
   "cell_type": "markdown",
   "metadata": {},
   "source": [
    "$$\n",
    "\\begin{align}\n",
    "P(n) &= \\sum_m r(m) Q(m, n), \\quad n = 1,2,...,n_{max} \\qquad \\qquad \\boldsymbol{(eq. 14)} \\cr\n",
    "\\end{align}\n",
    "$$"
   ]
  },
  {
   "cell_type": "markdown",
   "metadata": {},
   "source": [
    "Unless the bubbles introduced at the surface can grow, and this may occur under our assumptions only if $s_1$ or $s_2 > 0$, then $n_{max}$ must be $\\geq 20$.\n",
    "Moreover the solutions must be such that $r(m) \\geq 0$ for all $m$; we cannot introduce a negative number of bubbles.  (We do not impose a control on the net flux of a particular size across the surface.  There could be an efflux at a particular size which exceeded the production by breaking waves of bubbles at that size.)"
   ]
  },
  {
   "cell_type": "markdown",
   "metadata": {},
   "source": [
    "We have used for $P(n)$ a smoothed version of JC's data at 0.7 m, interpolated to 10 $\\mu m$ wide radius bands and truncated at 200 $\\mu m$, but conserving the total number of bubbles per unit volume, $4.8 \\cdot 10^5$ bubbles per $m^3$.\n",
    "This is shown in Figure 5b together with a linear distribution with the same total number of bubbles (marked by circles) and the distribution already shown in Figure 1a resulting from a uniform surface input, but scaled to have the same total number of bubbles (marked by crosses).\n",
    "The value of $K_v$ here is $180 cm^2 / s$ and $s_1 = s_2 = 0$.  In this case it was possible to solve Eq. 14 for both the JC profile and the linear distribution and Figure 5a shows the relative numbers of bubbles of each size $n$, proportional to the bias factors $r(m)$, needed to produce the distributions at 0.7 m.\n",
    "The crosses show the uniform distribution.\n",
    "The numbers for the linear distributiion (the circles in Figure 5a) generally decrease as radius increases, but less rapidly than in Figure 5b.  This is because the numbers in the distribution in Figure 1a, from which the bias factors at 0.7 m are deduced, itself decreases with $a > 30 \\,\\, \\mu m$.\n",
    "In Figure 5c the JC distribution has a peak just as it does at 0.7 m, but tends to become almost uniform for $15 < m < 20$."
   ]
  },
  {
   "cell_type": "markdown",
   "metadata": {},
   "source": [
    "We have used the calculated $r(m)$ to determine the corresponding distributions of bubbles at 1.8 and 4 m and have compared them with similarly smoothed versions of JC's data.  The four distributions in Figure 5(c and d) are the JC data, drawn as stepped histograms, and the three distributions resulting from uniform input (crosses), or fits to JC or the linear profile in (b).\n",
    "At 1.8 m (Figure 5c) we see that the points fitted to JC at 0.7 m follow the data histogram for $a > 50 \\mu m$ fairly well, but have a peak at a lower radius where values exceed those observed.  The other distributions have total numbers of bubbles which agree well with the observations.\n",
    "This is also the case at 4 m (Figure 5d).  Here however between 40 and 80 $\\mu m$ there are fewer bubbles in all simulations than JC observed and the simulations have similar distributions, all of which peak near 30 $\\mu m$."
   ]
  },
  {
   "cell_type": "markdown",
   "metadata": {},
   "source": [
    "The differences between the simulated distributions and the observations are significant and we shall return to discuss this later.  In Figures 6 and 7 we examine the effect of varying $D_i$ and $K_v$.\n",
    "The distributions are again first fitted to JC at 0.7 m and then corresponding distributions found at 1.8 and 4.0 m.  Figure 6 shows these when the values of the molecular diffusivity, $D$, taken to be the same for both gases, is halved or doubled.  We have also shown the effect of making $D = 0$ for $a < 28.1 \\,\\, \\mu m$ to simulate bubbles which are so thickly covered by surface active contaminants that diffusion is totally inhibited.  The principal effect of these changes is to raise or lower the distribution, and none are effective in increasing the radius at which the peak occurs.\n",
    "The total number of bubbles corresponds most closely to observations when $D$ is about $2 \\cdot 10^{-5} \\,\\, cm^2 / s$, the chosen value.  The effect of variations in $K_v$ on the bubble distribution is shown in Figure 7.  An increase in $K_v$ produces an increase in the number of bubbles found at the lowere reference depths.  (The numbers introduced at the surface are not held constant.  It is the distribution at 0.7 m which is fixed.)  The position of the peak is not however changed significantly."
   ]
  },
  {
   "cell_type": "markdown",
   "metadata": {},
   "source": [
    "The variation of gas flux with $K_v$, $D (=D_1 = D_2)$, and $s (=s_1 = s_2)$ is shown in Figure 8.  Fluxes for oxygen and nitrogen are shown separately, and two curves are shown for each.  the full line reresents a fit to the JC data at 0.7 m.  The dashed lines are estimates calculated by using the bias factors determined from the JC data at 0.7 m with $K_v = 180 \\,\\, cm^2 / s, \\,\\, D = 2 \\cdot 10^{-5} \\,\\, cm^2 /s$, and $s = 0$; this surface input, $S(m)$, is thus independent of $K_v$, $D$, or $s$."
   ]
  },
  {
   "cell_type": "markdown",
   "metadata": {},
   "source": [
    "Changes in salinity may however have a profound effect on the bubble size distribution, and influence $D$ and $s$.  Far more small bubbles result from waves breaking in saline water than in fresh (see Scott, 1975) and, as shown in I, this has a significant effect on sound scattering.  It seems likely that fewer bubbles result from breaking waves in fresh water because bubble coalescence is more frequent there (Lessard and Zieminski, 1971).\n",
    "Coalescence increases with rising temperature (Drogaris and Weiland, 1983) which will also affect $D$ and $s$.  Temperature variations affecting the stability of the atmospheric boundary layer may also result in changes in the frequency of breaking waves (Wu, 1979).  It is not realistic to assume that the number of bubbles produced per unit area per unit time by breaking waves will generally be independent of $K_v$.  Both increase with wind speed, and thus the individual estimates of fluxes in Figure 8a must be scaled by some factor which also depends on wind in some unknown way and which represents the increasing number of bubbles produced by breaking waves."
   ]
  },
  {
   "cell_type": "markdown",
   "metadata": {},
   "source": [
    "There are two factors which may contribute.  As wind increases, waves break more frequently (Thorpe and Humphries, 1980).  Since the RMS wave amplitude increases, it is probable that the breaking waves engulf a greater volume of air and become, on average, more efficient producers of bubbles.  An indication of the net bubble production is provided by the observed increase in the area of floating foam with wind speed (Monahan and O'Muircheartaigh. 1980), although a definite relationship between foam and the subsurface bubble population has not been estabilshed."
   ]
  },
  {
   "cell_type": "markdown",
   "metadata": {},
   "source": [
    "Given however a constant bubble distribution at 0.7 m or a constant surface input $S$ the curves of Figure 8 show that the gas fluxes increase with $D$ and $K_v$, and decrease with $s$.  The solution of eq. 14 at $s = 9$ produces negative bias factors when a fit is attempted to the JC data ad 0.7 m.  The dashed curves fitted to the points show that the fluxes become zero at about $s = 12$."
   ]
  },
  {
   "cell_type": "markdown",
   "metadata": {
    "collapsed": true
   },
   "source": [
    "Figure 9 shows the contribution to the nitrogen flux from each surface bubble size, $m$, with variation in $s$ (compare with Figure 2).  The gas flux is predominantly carried by bubbles which, at source, have radii between 40 and 100 $\\mu m$.  The slow convergence near $m = 20$ suggests that, due to trucation at 200 $\\mu m$, the values in Figure 8 may underestimate the flux by about $5 \\cdot 10^{-8} kg / m^2 s$ at $s = -3$."
   ]
  },
  {
   "cell_type": "markdown",
   "metadata": {},
   "source": [
    "The contribution to $M_v$ at 1.8 m from bubbles of input size $m$ is shown in Figure 10 using again the surface input $S$ for various $K_v$.  The main contribution is from bubbles of sizes between 30 and 100 $\\mu m$.  Figures 11a-c show the variation of $ln M_v$ with depth for various values of $K_v$, $D$, and $s$, again using $S$.  The curves are all concave upwards and the slopes increase with $K_v$, $D$, and $s$."
   ]
  },
  {
   "cell_type": "markdown",
   "metadata": {},
   "source": [
    "So if:<br>\n",
    "$$\n",
    "\\begin{align}\n",
    "d \\equiv \\left( - {d \\over dz} ln M_v \\right)^{-1} \\qquad \\qquad \\boldsymbol{(eq. 15)} \\cr\n",
    "\\end{align}\n",
    "$$"
   ]
  },
  {
   "cell_type": "markdown",
   "metadata": {},
   "source": [
    "is the inverse slope at 2 m we find, for variations $\\Delta K_v$, $\\Delta D$, and $\\Delta s$ near $K_v = 180 cm^2 / s$, that:<br>\n",
    "<ul>\n",
    "<li>$D = 2 \\cdot 10^{-5} cm^2 / s$</li>\n",
    "<li>$s = 0$</li>\n",
    "<li>$\\alpha = 0.81$ m</li>\n",
    "</ul>\n",
    "and the variation $\\Delta d$ is approximately given by:"
   ]
  },
  {
   "cell_type": "markdown",
   "metadata": {},
   "source": [
    "$$\n",
    "\\begin{align}\n",
    "\\Delta d(m) &= 0.023 \\Delta s + 0.26 {\\Delta D \\over D} + 0.74 {\\Delta K_v \\over K_v} \\qquad \\qquad \\boldsymbol{(eq. 16)} \\cr\n",
    "\\end{align}\n",
    "$$"
   ]
  },
  {
   "cell_type": "markdown",
   "metadata": {},
   "source": [
    "Figure 11d shows $M_v$ as a function of depth but for a <i>uniform</i> input of bubbles at the surface (i.e. the crosses in Figure 5a).  Here $M_v$ is normalized to unity at 1 m.  The curves are more nearly linear than in (a) and at $K_v = 180 cm^2 / s$, $d$ is now 0.79 m and $\\Delta d(m) = 0.61 \\Delta K_v / K_v$."
   ]
  },
  {
   "cell_type": "markdown",
   "metadata": {},
   "source": [
    "## 4. Discussion"
   ]
  },
  {
   "cell_type": "markdown",
   "metadata": {},
   "source": [
    "The gas flux and $M_v$ are related.  For $a > 28.0 \\mu m$, $N_i \\propto P_i^{1/3}$ (from eq. 9) or, using (eq. 7), $N_i \\propto a$.<br>\n",
    "The flux from a single bubble is proportional to $a$ times the Nusselt number, i.e., to $a^2$.  But at sufficiently large $a / a_r$, we have shown that $\\gamma_1$ is also proportional to $a^2$.  Hence, summing over the relatively large bubbles which contribute significantly, we find that $M_v$ is approximately proportional to the gas flux.  Figure 9 showing the net flux thus demonstrates that the vertically integrated $M_v$, approximately equal to the net area of bubbles per unit water surface area, has a dominant contribution from bubbles which, at the surface, have radii between 30 and 100 $\\mu m$, approximately the same range that Figure 10 showed was important at 1.8 m."
   ]
  },
  {
   "cell_type": "markdown",
   "metadata": {},
   "source": [
    "The trucation of the model at radii of 200 $\\mu m$ at large values of $K_v$ may produce errors in the estimates of $M_v$; as $K_v$ increases, larger bubbles can be carried by the enhanced turbulent motions.  Figure 5a suggests that it might be more realistic to extend the input with a uniform size input for $m > 20$.  This did not seem worthwhile since the appropriate variation with wind speed is unknown."
   ]
  },
  {
   "cell_type": "markdown",
   "metadata": {},
   "source": [
    "The relation between $d$ (eq. 15) and $K_v$ might be inverted and used as a means of estimating $K_v$ (see Thorpe, 1984a).  Equation 16 may be regarded as a sensitivity relationship defining the accuracy to which estimates of $K_v$ might be determined if $s$ and $D$ were known with errors $\\Delta s$ and $\\Delta D$.\n",
    "Continuous measurement of $s_1$ or $s_2$ in the ocean surface water is difficult, but since (eq. 16) suggests that errors of 3% in saturation level give rise to errors of less than 10% in $K_v$ it may be possible to estimate $K_v$ to a useful accuracy from sonar measurements of $d$ alone and without monitoring $s_1$ and $s_2$."
   ]
  },
  {
   "cell_type": "markdown",
   "metadata": {},
   "source": [
    "Variations in $D$ in the near-surface ocean will occur as a result of salinity or temperature changes.  An undetected variation of 10% would lead to a 3.5% error in $K_v$.  Variation in other coefficients, $v$ and $K_i$, will lead to errors of similar magnitude.<br>\n",
    "The importance of variation in $\\gamma$ is more difficult to assess in useful measure owing to the absence of reliable information about the nature of the surface of small bubbles in the sensitive range 30-100 $\\mu m$.  Since however surface tension plays a significant role only for bubbles of radii less than about 20 $\\mu m$ (see I, Sections 3.4 and 5) its variation seems unlikely to lead to agreat uncertainty in the estimation of $K_v$ from $d$.<br>\n",
    "The coefficient of $\\Delta K_v$ in (eq. 16) also depends on the input distribution of bubbles, but does not appear to be very sensitive to it.  A change of less than 20% occurred at 2 m under conditions of extreme variation of input distribution from the strongly peaked $S$ to a uniform input.<br>\n",
    "Precise determination of $K_v$ may depend on the appropriate modeling of the input.  If however the input retains a similar form as wind speed varies, it should be possible to achieve high relative accuracy in the estimation of $K_v$."
   ]
  },
  {
   "cell_type": "markdown",
   "metadata": {},
   "source": [
    "The model predicts fairly well the number of bubbles per unit volume at the depths at which JC made observations, but the modeled peak tends to smaller radii as depth increases.  This discrepancy is cause for concern.  It appears not to be due to incorrect estimation of $D$ (see Figure 6), and is unlikely to be due to poor estimation of $s_i$ (see Figure 3) although the saturation levels were not reported by JC.  Nor does it seem to be due to inappropriate selection of $K_v$ (see Figure 7).<br>\n",
    "The tendancy of the distribution peak to move to smaller radii as depth increased was found in I when $K_v$ was allowed to vary in proportion to depth and this, together with the present results, provide <i>prima facie<i> evidence that the representation of turbulence is not a cause of the discrepancy.  We must examine the assumptions of the model and the observations themselves."
   ]
  },
  {
   "cell_type": "markdown",
   "metadata": {},
   "source": [
    "Coalescence has been shown to have a negligible effect beyond the neighborhood of the breaking waves provided that the bubble numbers reported by JC are typical (see Thorpe, 1984d).  If in infrequent, but dense, bubble clouds the density is two orders of magnitude greater than the mean, coalescence could perhaps be important particularly in fresh water where it occurs more readily.  This possibility is suggested by the large variation found in $M_v$ as bubble clouds pass the sonar (see I), and deserves more careful study.<br>\n",
    "Langmuir circulation could also play a role, either by producing effects not represented by $K_v$ in the model, or by biasing the observations.  Floating objects, like the floating camera used by JC to record the bubbles, tend to move into regions of convergence, the wind rows, where the concentrations of bubbles is higher than average (Thorpe and Hall, 1983) and where there is a mean downward flow.  What effect this would have on the distribution of bubbles is discussed elsewhere (Thorpe, 1984c).\n",
    "There is a need for more direct observations of the distribution of bubble sizes in the ocean."
   ]
  },
  {
   "cell_type": "markdown",
   "metadata": {},
   "source": [
    "We do not pretend that the present model provides a description of bubbles in the near-surface ocean suitable for prediction of $M_v$ or the gas flux.  It fails in the locality of a breaking wave.  It is therefore unsuited to provide information about bubbles near their source which could be compared with Koga's (1982) description of bubbles carried to depths of about half the height of the breaking wave by a local circulation induced in the wave itself.<br>\n",
    "\n",
    "It does however shed some light on the way bubble sizes produced by breaking waves may contribute to the distributions at greater depths.  Comparison with available sonar data (in I) shows that the shape of the $ln M_v$ versus depth curves (Figure 11a) is unlike that which is observed.  The predicted values of $M_v$ differ from estimates based on JC data (the circles in Figure 11a) which themselves agree with sonar measurements (see I).<br>\n",
    "The difference is most probably because the assumed form of $K_v$, uniform with depth, is unrealistic  The principal value of this model is that, as mentioned in Section 1, it includes certain effects which could not easily be incorporated in models based on a diffusion equation.  We show in the following paper (Thorpe, 1984a) that it provides results consistent with the diffusion models.  This strengthens our confidence that we are indeed justified in neglecting these effects.  It suggests moreover that results based on the use of diffusion models, perhaps with selections of $K_v$ different from those used here, are sound."
   ]
  },
  {
   "cell_type": "markdown",
   "metadata": {},
   "source": [
    "### Acknowledgement"
   ]
  },
  {
   "cell_type": "markdown",
   "metadata": {},
   "source": [
    "This paper was first drafted while the author was a visitor at the School of Oceanography, Oregon State University at Corvallis, and he wishes to thank his hosts, especially Doug Caldwell and Tom Dillon, for inviting him.  Partial support was received from the Office of Naval Research Contract N00014-79-C-0004."
   ]
  },
  {
   "cell_type": "markdown",
   "metadata": {},
   "source": [
    "## References"
   ]
  },
  {
   "cell_type": "markdown",
   "metadata": {},
   "source": [
    "<ul>\n",
    "    <li>Aleksandrov, A. P., and E. S. Vaindruk, 1974: <i>The Investigation of the Variability of Hydrophysical Fields in the Ocean</i>, R. Ozmidov, Ed., Moscow: Nauka Publishing Office, 122-128.</li>\n",
    "    <li>Blanchard, D. C., and A. H. Woodcock, 1957: <i>Bubble Formation and Modification in the Sea and its Meteorological Significance.</i>, Tellus, 9, 145-158. </li>\n",
    "    <li>Csanady, G. T., 1973: <i>Turbulent Diffusion in the Environment.</i>, Reidel, 248 pp. </li>\n",
    "    <li>Devin, C., 1959: <i>Survey of Thermal, Radiation and Viscous Damping of Pulsating Air Bubbles in Water.</i>, J. Acoust, Soc. Amer., 31, 1654-1667.</li>\n",
    "    <li>Drogaris, G., and Weiland, P., 1983: <i>Studies of Coalescence of Bubble Pairs.</i>, Chem. Eng. Commun., 23, 11-26.</li>\n",
    "    <li>Garrettson, G. A., 1973: <i>Bubble Transport Theory with Application to the Upper Ocean.</i>, J. Fluid Mech., 59, 187-206.</li>\n",
    "    <li>Johnson, B. D., and R. C. Cooke, 1979: <i>Bubble Populations and Spectra in Coastal Waters: A Photographic Approach.</i>, J. Geophys. Res., 84, C7, 3761-3766.</li>\n",
    "    <li>-----, and -----, 1980: <i>Organic Particle and Aggregate Formation Resulting From Dissolution of Bubbles in Seawater.</i>, Limnol. Oceanol., 25, 653-661.</li>\n",
    "    <li>Koga, M., 1982: <i>Bubble Entrainment in Breaking Wind Waves.</i>, Tellus, 34, 481-489.</li>\n",
    "    <li>Leibovich, S., 1983: <i>The Form and Dynamics of Langmuir Circulations.</i>, Annual Review of Fluid Mechanics, Vol. 15, Annual Reviews, 391-427.</li>\n",
    "    <li>Lessard, R. S., and Zieminski, S. A., 1971: <i>Bubble Coalescence and Gas Transfer in Aqueous Electrolytic Solutions.</i>, Ind. Eng. Chem. Fundam., 10, 260-269.</li>\n",
    "    <li>Longuet-Higgins, M. S., and J. S. Turner, 1974: <i>An \"Entraining Plume\" Model of a Spilling Breaker.</i>, J. Fluid Mech., 63, 1-20.</li>\n",
    "    <li>Mason, B. J., 1971: <i>The Physics of Clouds.</i>, Clarendon Press, 671 pp. </li>\n",
    "    <li>Monahan, E. C., and I. G. O'Muircheartaigh, 1980: <i>Optimal Power-Law Description of Oceanic Whitecap Coverage Dependence on Wind Speed.</i>, J. Phys. Oceanogr., 10, 2094-2099.</li>\n",
    "    <li>Scott J. C., 1975: <i>The Role of Salt in Whitecap Persistence.</i>, Deep-Sea Res., 22, 653-657.</li>\n",
    "    <li>Thorpe, S. A., 1982: <i>On the Clouds of Bubbles Formed by Breaking Wind-waves in Deep Water, and Their Role in Air-Sea Gas Transfer.</i>, Phil. Trans. Roy. Soc. London, A304, 155-210.</li>\n",
    "    <li>-----, 1984a: <i>On the Determination of $K_v$ in the Near-surface Ocean from Acoustic Measurements of Bubbles.</i>, J. Phys. Oceanogr., 14, 855-863.</li>\n",
    "    <li>-----, 1984b: <i>The Effect of Bubbles Produced by Breaking Wind-waves on Gas Flux Across the Sea Surface.</i>, Ann. Geophys., 2, 53-56.</li>\n",
    "    <li>-----, 1984c: <i>The Effect of Langmuir Circulation on the Distribution of Submerged Bubbles Caused by Breaking Wind Waves.</i>, J. Fluid Mech., 142, 151-170.</li>\n",
    "    <li>-----, 1984d: <i>Bubble Clouds: A Review of Their Detections by Sonar, of Related Models, and of How $K_v$ May Be Determined.; Oceanic Whitecaps and Their Role in Air-sea Exchange Processes.</i>, E. C. Monahan and G. MacNiocaill Eds., Galway University Press (in press).</li>\n",
    "    <li>P. N. Humphries, 1980: <i>Bubbles and Breaking Waves.</i>, Nature, 283, 463-465.</li>\n",
    "    <li>A. J. Hall, 1983: <i>The Characteristics of Breaking Waves, Bubble Clouds, and Near-surface Currents Observed Using Side-scan Sonar.</i>, Cont. Shelf Res., 1, 353-384.</li>\n",
    "    <li>Urick, R. J., 1975: <i>Principles of Underwater Sound.</i>, McGraw-Hill, 384 pp.</li>\n",
    "    <li>Wu, J., 1979: <i>Oceanic Whitecaps and Sea State.</i>, J. Phys. Oceanogr., 9, 1064-1068.</li>\n",
    "    <li>Wyman, J., P. F. Scholander, G. A. Edwards, and L. Irving, 1952: <i>The Stability of Gas Bubbles in Sea Water.</i>, J. Mar. Res., 11, 47-62.</li>\n",
    "</ul>"
   ]
  },
  {
   "cell_type": "code",
   "execution_count": null,
   "metadata": {
    "collapsed": true
   },
   "outputs": [],
   "source": []
  }
 ],
 "metadata": {
  "kernelspec": {
   "display_name": "Python 2",
   "language": "python",
   "name": "python2"
  },
  "language_info": {
   "codemirror_mode": {
    "name": "ipython",
    "version": 2
   },
   "file_extension": ".py",
   "mimetype": "text/x-python",
   "name": "python",
   "nbconvert_exporter": "python",
   "pygments_lexer": "ipython2",
   "version": "2.7.11"
  }
 },
 "nbformat": 4,
 "nbformat_minor": 0
}
