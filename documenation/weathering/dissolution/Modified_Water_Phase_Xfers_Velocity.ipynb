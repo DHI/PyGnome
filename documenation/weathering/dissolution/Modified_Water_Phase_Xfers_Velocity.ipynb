{
 "cells": [
  {
   "cell_type": "markdown",
   "metadata": {},
   "source": [
    "# <center>Notes on Modified Water Phase Transfer Velocity</center>"
   ]
  },
  {
   "cell_type": "markdown",
   "metadata": {},
   "source": [
    "### <center>In Regards to the Dissolution Weathering Process</center>"
   ]
  },
  {
   "cell_type": "markdown",
   "metadata": {},
   "source": [
    "### <center>By: Bill Lehr</center>"
   ]
  },
  {
   "cell_type": "markdown",
   "metadata": {},
   "source": [
    "## Present Procedure"
   ]
  },
  {
   "cell_type": "markdown",
   "metadata": {},
   "source": [
    "The water phase transfers velocity is taken as the Stokes velocity for the individual droplet."
   ]
  },
  {
   "cell_type": "markdown",
   "metadata": {},
   "source": [
    "$$\n",
    "\\begin{align}\n",
    "k_w &= \\text{water phase transfer velocity} (m/s) \\cr\n",
    "&= { 1 \\over 18 \\pi } \\Delta_\\rho \\cdot { g \\cdot A_{drop} \\over v_w } \\cr\n",
    "&= 1.76 \\cdot 10^5 \\cdot \\Delta_\\rho \\cdot A_{drop} \\cr\n",
    "\\end{align}\n",
    "$$"
   ]
  },
  {
   "cell_type": "markdown",
   "metadata": {},
   "source": [
    "<center><b><i>JamesM Comments</i></b></center>"
   ]
  },
  {
   "cell_type": "markdown",
   "metadata": {},
   "source": [
    "I believe that the Stokes formula used dynamic viscosity. Therefore the formula should be as follows:"
   ]
  },
  {
   "cell_type": "markdown",
   "metadata": {},
   "source": [
    "$$\n",
    "\\begin{align}\n",
    "\\Delta_{\\rho} &= \\text{relative oil-water density difference} (kg / m^3) \\cr\n",
    "\\delta_{drop} &= \\text{droplet diameter} (m) \\cr\n",
    "A_{drop} &= \\text{droplet surface area} (m^2) \\cr\n",
    "g &= \\text{acceleration due to gravity} = 9.80665 (m/s^2) \\cr\n",
    "v_w &= \\text{dynamic water viscosity } = 0.001 (kg/m \\cdot s) \\cr\n",
    "\\cr\n",
    "k_w &= {1 \\over 18\\pi} \\Delta_\\rho \\cdot {g \\cdot A_{drop} \\over v_w} \\cr\n",
    "&= {g \\over 18 \\pi \\cdot v_w} \\cdot \\Delta_\\rho \\cdot A_{drop}  \\cr\n",
    "&= {9.80665 \\over 18 \\pi \\cdot 0.001} \\cdot \\Delta_\\rho \\cdot A_{drop}  \\cr\n",
    "&\\simeq 173.4 \\cdot \\Delta_\\rho \\cdot A_{drop} \\qquad \\qquad \\qquad \\qquad \\qquad \\boldsymbol{(Eq. 1.11)} \\cr\n",
    "\\cr\n",
    "&\\text{and if we solve for droplet diameter...} \\cr\n",
    "\\cr\n",
    "k_w &= {g \\over 18 \\pi \\cdot v_w} \\cdot \\Delta_\\rho \\cdot A_{drop} \\cr\n",
    "&= {g \\over 18 \\pi \\cdot v_w} \\cdot \\Delta_\\rho \\cdot 4 \\pi \\left({\\delta_{drop} \\over 2}\\right)^2 \\cr\n",
    "&= {g \\cdot 4 \\pi \\over 18 \\pi \\cdot v_w} \\cdot \\Delta_\\rho \\cdot \\left({\\delta_{drop} \\over 2}\\right)^2 \\cr\n",
    "&= {g \\cdot 4 \\pi \\over 18 \\pi \\cdot v_w} \\cdot \\Delta_\\rho \\cdot {\\delta_{drop}^2 \\over 4} \\cr\n",
    "&= {g \\cdot 4 \\pi \\over 18 \\cdot 4\\pi \\cdot v_w} \\cdot \\Delta_\\rho \\cdot \\delta_{drop}^2 \\cr\n",
    "&= {g \\over 18 \\cdot v_w} \\cdot \\Delta_\\rho \\cdot \\delta_{drop}^2 \\cr\n",
    "&= {9.80665 \\over 18 \\cdot 0.001} \\cdot \\Delta_\\rho \\cdot \\delta_{drop}^2 \\cr\n",
    "\\cr\n",
    "&\\simeq 544.814 \\cdot \\Delta_\\rho \\cdot \\delta_{drop}^2 \\qquad \\qquad \\qquad \\qquad \\boldsymbol{(Eq. 1.11a)} \\cr\n",
    "\\end{align}\n",
    "$$"
   ]
  },
  {
   "cell_type": "markdown",
   "metadata": {},
   "source": [
    "<center><b><i>End JamesM Comments</i></b></center>"
   ]
  },
  {
   "cell_type": "markdown",
   "metadata": {},
   "source": [
    "## Revised Procedure"
   ]
  },
  {
   "cell_type": "markdown",
   "metadata": {},
   "source": [
    "As the note from Louis Thibodeaux confirms, not including turbulent velocity will underestimate dissolution from the submerged droplets.  The revised procedure is to replace $k_w$ with a new term $\\bar {k_w}$, which represents the old transfer velocity plus an additional term that accounts for turbulent induced dispersion.  At the scale of the breaking wave layer, turbulence is assumed to be isotropic (average dispersion in all directions is the same).  Adios3 uses the choice of Thorpe (1984, Figure 6) for turbulent diffusion coefficient, $K_{dif}$."
   ]
  },
  {
   "cell_type": "markdown",
   "metadata": {},
   "source": [
    "$$\n",
    "\\begin{align}\n",
    "K_{dif} &= 0.018 \\,\\, m^2 / s \\cr\n",
    "\\end{align}\n",
    "$$"
   ]
  },
  {
   "cell_type": "markdown",
   "metadata": {},
   "source": [
    "As the note from Louis indicates, this is a higher value than the ocean mixed layer, but is reasonable for modeling the breaking wave layer.  To account for this extra velocity term, the following replacement is done in the code:"
   ]
  },
  {
   "cell_type": "markdown",
   "metadata": {},
   "source": [
    "$$\n",
    "\\begin{align}\n",
    "k_w &\\rightarrow \\bar {k_w} \\cr\n",
    "\\bar {k_w} &= k_w + \\sqrt {K_{dif} \\over \\Delta t} \\cr\n",
    "&= k_w + 0.134 \\,\\, m/s \\qquad \\qquad \\qquad \\boldsymbol{(eq. 1.1)} \\cr\n",
    "\\end{align}\n",
    "$$"
   ]
  },
  {
   "cell_type": "markdown",
   "metadata": {},
   "source": [
    "The net vertical displacement of the LE is also modified."
   ]
  },
  {
   "cell_type": "markdown",
   "metadata": {},
   "source": [
    "$$\n",
    "\\begin{align}\n",
    "\\Delta z &= k_w \\Delta t \\cr\n",
    "\\Delta z &\\rightarrow \\bar {\\Delta z} \\cr\n",
    "\\cr\n",
    "\\bar {\\Delta z} &= k_w \\Delta t + \\sqrt{K_{dif} \\Delta t} \\cdot Sin(\\theta_{rnd}) \\qquad \\qquad \\qquad \\boldsymbol{(eq. 1.2)} \\cr\n",
    "\\end{align}\n",
    "$$"
   ]
  },
  {
   "cell_type": "markdown",
   "metadata": {},
   "source": [
    "Where $\\theta_{rnd}$ is a random number with uniform distribution between $0 \\leq \\theta_{rnd} \\leq 2 \\pi$.  As James observed, the net vertical displacement remains the same (distance from original droplet location to the surface) but the actual path the droplet travels is increased due to its zig-zag trajectory.\n",
    "For our model, the refloat time is kept the same (See Subsurface loss notes, July 2016)"
   ]
  },
  {
   "cell_type": "markdown",
   "metadata": {},
   "source": [
    "$$\n",
    "\\begin{align}\n",
    "T_{ref}(le) &= {depth(le) \\over k_w(le)} \\qquad \\qquad \\qquad \\boldsymbol{(eq. 1.3)} \\cr\n",
    "\\end{align}\n",
    "$$"
   ]
  },
  {
   "cell_type": "markdown",
   "metadata": {},
   "source": [
    "<center><b><i>JamesM Comments</i></b></center>"
   ]
  },
  {
   "cell_type": "markdown",
   "metadata": {
    "collapsed": true
   },
   "source": [
    "To be precise, I believe that the refloat time in the dissolution document should be as follows:"
   ]
  },
  {
   "cell_type": "markdown",
   "metadata": {},
   "source": [
    "$$\n",
    "\\begin{align}\n",
    "H_{1/3} &= \\text{significant wave height} \\cr\n",
    "\\cr\n",
    "T_{rfl} &= {3 \\over 4} \\cdot {H_{1/3} \\over k_w} \\qquad \\qquad \\qquad \\qquad \\qquad \\qquad \\qquad \\boldsymbol{(Eq. 1.18)} \\cr\n",
    "\\end{align}\n",
    "$$"
   ]
  },
  {
   "cell_type": "markdown",
   "metadata": {},
   "source": [
    "This would use the unaltered $k_w$ based purely on Stokes.<br>\n",
    "But when we calculate the mass transfer rates of our soluble components we will use the formula based on Cohen:"
   ]
  },
  {
   "cell_type": "markdown",
   "metadata": {},
   "source": [
    "$$\n",
    "\\begin{align}\n",
    "\\bar {k_w} &= \\text{our modified water phase transfer velocity} (m/sec) \\cr\n",
    "K_{ow} &= \\text{partition coefficient} (C_{oil}/C_w) \\cr\n",
    "C_{oil} &= \\text{saturation concentration in oil} (kg/m^3) \\cr\n",
    "C_w &= \\text{saturation concentration in water} (kg/m^3) \\cr\n",
    "\\cr\n",
    "N &= \\bar {k_w} \\cdot C_{oil} / K_{ow} \\qquad \\qquad \\qquad \\qquad \\qquad \\boldsymbol{(Eq. 1.1)} \\cr\n",
    "\\end{align}\n",
    "$$"
   ]
  },
  {
   "cell_type": "markdown",
   "metadata": {},
   "source": [
    "<center><b><i>End JamesM Comments</i></b></center>"
   ]
  },
  {
   "cell_type": "code",
   "execution_count": null,
   "metadata": {
    "collapsed": true
   },
   "outputs": [],
   "source": []
  }
 ],
 "metadata": {
  "kernelspec": {
   "display_name": "Python 2",
   "language": "python",
   "name": "python2"
  },
  "language_info": {
   "codemirror_mode": {
    "name": "ipython",
    "version": 2
   },
   "file_extension": ".py",
   "mimetype": "text/x-python",
   "name": "python",
   "nbconvert_exporter": "python",
   "pygments_lexer": "ipython2",
   "version": "2.7.11"
  }
 },
 "nbformat": 4,
 "nbformat_minor": 0
}
