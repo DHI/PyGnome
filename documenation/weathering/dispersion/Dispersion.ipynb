{
 "cells": [
  {
   "cell_type": "markdown",
   "metadata": {},
   "source": [
    "# <center>Dispersion</center>"
   ]
  },
  {
   "cell_type": "markdown",
   "metadata": {},
   "source": [
    "## <center>Subsurface Processes for Alpha Release</center>"
   ]
  },
  {
   "cell_type": "markdown",
   "metadata": {},
   "source": [
    "### General Theory"
   ]
  },
  {
   "cell_type": "markdown",
   "metadata": {},
   "source": [
    "Dispersion will be done temporarily using the Delvigne algorithms until Debra finishes her work with VDROP.  According to Delvigne, $ Q_{disp} (kg/sec) $, the mass rate of oil driven into the first 1.5 wave height $ (1.5 H_w) $ depths with uniform spatial concentration is given per LE by:"
   ]
  },
  {
   "cell_type": "markdown",
   "metadata": {},
   "source": [
    "$$\n",
    "\\begin{align}\n",
    "c_{disp} &= \\text{Roy's constant (see below)} \\cr\n",
    "\\mathscr{D}_e &= \\text{wave energy dissipation rate per unit area} \\space (Joule/m^2) \\cr\n",
    "f_{bw} &= \\text{fraction of breaking waves (see below)} \\cr\n",
    "f_{disp} &= \\text{volume of oil entrained per unit volume of water (see below)} \\cr\n",
    "Vol_{LE} &= \\text{volume of oil(emulsion) in the LE} \\space (m^3) \\cr\n",
    "&\\quad (\\text{can be calculated as} Vol_{LE} = \\mu_{LE} / \\rho_{LE}) \\cr\n",
    "\\delta_{th} &= \\text{surface oil thickness (m)} \\cr\n",
    "f_{cov} &= \\text{surface fraction coverage} \\cr\n",
    "Y &= \\text{water fraction of emulsion} \\cr\n",
    "\\cr\n",
    "Q_{disp} &= c_{disp} \\mathscr{D}_e^{0.57} f_{bw} f_{disp} {Vol_{LE} \\over \\delta_{th} \\cdot f_{cov}} \\cdot (1 - Y) \\quad \\quad (\\text{in kg/sec}) \\cr\n",
    "\\end{align}\n",
    "$$"
   ]
  },
  {
   "cell_type": "code",
   "execution_count": 5,
   "metadata": {},
   "outputs": [
    {
     "name": "stdout",
     "output_type": "stream",
     "text": [
      "Failed to add Resin fraction!\n",
      "Failed to add Asphaltene fraction!\n",
      "Our initial fractions so far (SA, R, A): (0, 0, 0) total: 0\n",
      "Failed to add Resin fraction!\n",
      "Failed to add Asphaltene fraction!\n",
      "Our initial fractions so far (SA, R, A): (0, 0, 0) total: 0\n",
      "Failed to add Resin fraction!\n",
      "Failed to add Asphaltene fraction!\n",
      "Our initial fractions so far (SA, R, A): (0, 0, 0) total: 0\n",
      "Failed to add Resin fraction!\n",
      "Failed to add Asphaltene fraction!\n",
      "Our initial fractions so far (SA, R, A): (0, 0, 0) total: 0\n",
      "Failed to add Resin fraction!\n",
      "Failed to add Asphaltene fraction!\n",
      "Our initial fractions so far (SA, R, A): (0, 0, 0) total: 0\n",
      "Failed to add Resin fraction!\n",
      "Failed to add Asphaltene fraction!\n",
      "Our initial fractions so far (SA, R, A): (0, 0, 0) total: 0\n"
     ]
    }
   ],
   "source": [
    "import numpy as np\n",
    "from gnome import constants\n",
    "\n",
    "def oil_mass_rate_into_wave(roys_constant,\n",
    "                            wave_energy_dissipation_rate,\n",
    "                            breaking_wave_fraction,\n",
    "                            entrained_oil_volume,\n",
    "                            oil_volume,\n",
    "                            surface_oil_thickness,\n",
    "                            surface_coverage,\n",
    "                            water_emulsion_fraction):\n",
    "    '''\n",
    "        return the mass rate of oil driven into the first 1.5 wave height\n",
    "    '''\n",
    "    return (roys_constant *\n",
    "            wave_energy_dissipation_rate ** (0.57) *\n",
    "            breaking_wave_fraction *\n",
    "            entrained_oil_volume *\n",
    "            (oil_volume / surface_oil_thickness * surface_coverage) *\n",
    "            (1.0 - water_emulsion_fraction))\n"
   ]
  },
  {
   "cell_type": "markdown",
   "metadata": {},
   "source": [
    "Delvigne used $ \\mathscr{D}_e = 0.0034 g \\rho_w H_w^2 $, but <b>Chris or Debra may have suggestions for a better choice</b>."
   ]
  },
  {
   "cell_type": "code",
   "execution_count": 6,
   "metadata": {},
   "outputs": [],
   "source": [
    "def wave_energy_dissipation_rate(water_density, wave_height):\n",
    "    return 0.0034 * constants.gravity * water_density * wave_height ** 2.0"
   ]
  },
  {
   "cell_type": "markdown",
   "metadata": {},
   "source": [
    "<br><br>"
   ]
  },
  {
   "cell_type": "markdown",
   "metadata": {},
   "source": [
    "$ c_{disp} $ is called often Roy's constant in ADIOS2 documentation, after Roy Overstreet, one of the founding researchers of ERD.  It represents the reduction in dispersion as the oil viscosity increases.<br>\n",
    "$ c_{disp} $ should also be a function of oil-water surface tension but Delvigne used oils with similar surface tension values in his experiment.  With apologies for the lack of proper dimensional analysis, Roy's constant is expressed in terms of the emulsion viscosity and has non-integer dimensions."
   ]
  },
  {
   "cell_type": "markdown",
   "metadata": {},
   "source": [
    "$$\n",
    "\\begin{align}\n",
    "v_{emul} &= \\text{the emulsion kinematic viscosity} (m^2/sec) \\cr\n",
    "\\cr\n",
    "c_{disp} &= 2400 \\cdot exp \\left(-73.682 \\cdot \\sqrt{v_{emul}} \\right) \\cr\n",
    "\\end{align}\n",
    "$$"
   ]
  },
  {
   "cell_type": "code",
   "execution_count": 8,
   "metadata": {
    "collapsed": true
   },
   "outputs": [],
   "source": [
    "def roys_constant(emulsion_kvis):\n",
    "    return 2400.0 * np.exp(-73.682 * np.sqrt(emulsion_kvis))"
   ]
  },
  {
   "cell_type": "markdown",
   "metadata": {},
   "source": [
    "<br>\n",
    "$ f_{bw} $ is the fraction of breaking waves.  Debra & I published (Spill Sci. and Tech. Bull, 6:247-253 (2000)) a better estimate of this term than was used in the original ADIOS2."
   ]
  },
  {
   "cell_type": "markdown",
   "metadata": {},
   "source": [
    "$$\n",
    "\\begin{align}\n",
    "U_{10} &= \\text{wind speed at 10m elevation} \\cr\n",
    "T_m &= \\text{Monahan time constant (see below)} \\cr\n",
    "\\cr\n",
    "\\text{if } U_{10} \\le 4 (m/sec) &: \\cr\n",
    "f_{bw} &= {0.025 (U_{10} - 3) \\over T_m} \\cr\n",
    "\\text{else} &: \\cr\n",
    "f_{bw} &= {0.01 (U_{10} + 0.01) \\over T_m} \\cr\n",
    "\\end{align}\n",
    "$$"
   ]
  },
  {
   "cell_type": "code",
   "execution_count": 9,
   "metadata": {
    "collapsed": true
   },
   "outputs": [],
   "source": [
    "def breaking_waves_fraction(wind_speed, monahan_constant):\n",
    "    if wind_speed <= 4.0:\n",
    "        return 0.025 * (wind_speed - 3.0) / monahan_constant\n",
    "    else:\n",
    "        return 0.01 * (wind_speed + 0.01) / monahan_constant"
   ]
  },
  {
   "cell_type": "markdown",
   "metadata": {},
   "source": [
    "<br><br>"
   ]
  },
  {
   "cell_type": "markdown",
   "metadata": {},
   "source": [
    "$ T_m $ is the Monahan (JPO, 1971) time constant, measured in seconds, which characterizes exponential whitecap decay.  For saltwater conditions, $ T_m = 3.85 $, and for fresh water conditions, $ T_m = 2.54 $."
   ]
  },
  {
   "cell_type": "code",
   "execution_count": 10,
   "metadata": {
    "collapsed": true
   },
   "outputs": [],
   "source": [
    "def monahan_constant(is_saltwater):\n",
    "    if is_saltwater:\n",
    "        return 3.85\n",
    "    else:\n",
    "        return 2.54"
   ]
  },
  {
   "cell_type": "markdown",
   "metadata": {},
   "source": [
    "<br>\n",
    "$ f_{disp} (Total) $ is the volume of oil entrained per unit volume of water such that:"
   ]
  },
  {
   "cell_type": "markdown",
   "metadata": {},
   "source": [
    "$$\n",
    "\\begin{align}\n",
    "\\delta_{th} &= \\text{slick surface thickness} \\cr\n",
    "\\cr\n",
    "f_{disp} (Total) &= {Vol_{LE} \\over Area_{LE} \\cdot 1.5 H_w} \\cr\n",
    "&= {\\delta_{th} \\over 1.5 H_w} \\cr\n",
    "\\end{align}\n",
    "$$"
   ]
  },
  {
   "cell_type": "code",
   "execution_count": 11,
   "metadata": {
    "collapsed": true
   },
   "outputs": [],
   "source": [
    "def surface_thickness(volume, area):\n",
    "    return volume / area\n",
    "\n",
    "def entrained_oil_volume(surface_thickness, wave_height):\n",
    "    return surface_thickness / (1.5 * wave_height)"
   ]
  },
  {
   "cell_type": "markdown",
   "metadata": {},
   "source": [
    "However, $ f_{disp} (Total) $, is divided into two regimes:"
   ]
  },
  {
   "cell_type": "markdown",
   "metadata": {},
   "source": [
    "$$\n",
    "\\begin{align}\n",
    "f_{disp} (Total) &= \\text{refloat part} + \\text{dispersed part} \\cr\n",
    "\\end{align}\n",
    "$$"
   ]
  },
  {
   "cell_type": "markdown",
   "metadata": {},
   "source": [
    "The dispersed part, for the alpha release, is assumed to be completely removed from the slick.  The refloat part is subject to dissolution and sedimentation (OPA)"
   ]
  },
  {
   "cell_type": "markdown",
   "metadata": {},
   "source": [
    "<br><br><br><br>"
   ]
  },
  {
   "cell_type": "markdown",
   "metadata": {},
   "source": [
    "### For the Dispersed Part Only"
   ]
  },
  {
   "cell_type": "markdown",
   "metadata": {},
   "source": [
    "Delvigne assumes that the number of droplets per droplet size $\\delta$ is given by:"
   ]
  },
  {
   "cell_type": "markdown",
   "metadata": {},
   "source": [
    "$$\n",
    "\\begin{align}\n",
    "N(\\delta) &\\propto {1 \\over \\delta^{7/3}} \\cr\n",
    "\\cr\n",
    "\\end{align}\n",
    "$$"
   ]
  },
  {
   "cell_type": "markdown",
   "metadata": {},
   "source": [
    "This means that the oil volume distribution as a function of droplet size, $ Vol(\\delta) $, is given by:"
   ]
  },
  {
   "cell_type": "markdown",
   "metadata": {},
   "source": [
    "$$\n",
    "\\begin{align}\n",
    "Vol(\\delta) &\\propto \\delta^{2/3} \\cr\n",
    "\\cr\n",
    "f_{disp} &\\propto \\int_{\\delta_{min}}^{\\delta_{max}} \\delta^{2/3} d(\\delta) \\cr\n",
    "&\\propto {3 \\over 5} \\delta^{5/3} \\bigg \\lbrack_{\\delta_{min}}^{\\delta_{max}}\n",
    "\\end{align}\n",
    "$$"
   ]
  },
  {
   "cell_type": "markdown",
   "metadata": {},
   "source": [
    "With $ \\delta_{min} = 5 $ microns and $ \\delta_{max} = 70 $ microns, this yields a value of $ f_{disp} \\propto 5 \\cdot 10^{-8} $."
   ]
  },
  {
   "cell_type": "code",
   "execution_count": 33,
   "metadata": {},
   "outputs": [],
   "source": [
    "def droplet_number_distribution(droplet_size):\n",
    "    '''\n",
    "        droplet_size: size of the droplet (diameter???)\n",
    "    '''\n",
    "    return np.round(1.0 / droplet_size ** (7.0 / 3.0))\n",
    "\n",
    "def droplet_volume_distribution(droplet_size):\n",
    "    return droplet_size ** (2.0 / 3.0)\n"
   ]
  },
  {
   "cell_type": "code",
   "execution_count": 79,
   "metadata": {},
   "outputs": [
    {
     "name": "stdout",
     "output_type": "stream",
     "text": [
      "Do these values look reasonable???\n",
      "(N, Vol):\n",
      "\t(2339214190570.0, 0.00029240177382128675)\n",
      "\t(1195490890330.0, 0.00035421952306087051)\n",
      "\t(710269077407.0, 0.0004110353457217452)\n",
      "\t(464158883361.0, 0.00046415888336127806)\n",
      "\t...\n",
      "\t(5886658398.0, 0.0016166235625781561)\n",
      "\t(5548977167.0, 0.0016441413828869806)\n",
      "\t(5238302631.0, 0.0016714308132131819)\n",
      "\t(4951892864.0, 0.001698499252241811)\n"
     ]
    },
    {
     "data": {
      "image/png": "[encoded data removed]",
      "text/plain": [
       "<matplotlib.figure.Figure at 0x11cb4b710>"
      ]
     },
     "metadata": {},
     "output_type": "display_data"
    }
   ],
   "source": [
    "from pylab import *\n",
    "%matplotlib inline\n",
    "plt.figure(figsize=(8, 6))  # make the drawing area a bit bigger\n",
    "\n",
    "ax1 = plt.subplot(211)\n",
    "ax2 = plt.subplot(212)\n",
    "\n",
    "droplet_sizes = np.linspace(5e-6, 7e-5, 40)\n",
    "\n",
    "x = droplet_sizes\n",
    "y = droplet_number_distribution(x)\n",
    "y2 = droplet_volume_distribution(x)\n",
    "\n",
    "print 'Do these values look reasonable???'\n",
    "print '(N, Vol):'\n",
    "for d in zip(y, y2)[:4]:\n",
    "    print '\\t', d\n",
    "print '\\t...'\n",
    "for d in zip(y, y2)[-4:]:\n",
    "    print '\\t', d\n",
    "\n",
    "ax1.plot(x, y, linewidth=1)\n",
    "ax2.plot(x, y2, linewidth=1)\n",
    "\n",
    "ax1.figure.text(0.45, 0.0, r'$\\delta$')\n",
    "ax1.figure.text(0.0, 0.7, r'$N(\\delta)$')\n",
    "ax2.figure.text(0.0, 0.3, r'$Vol(\\delta)$')\n",
    "\n",
    "show()"
   ]
  },
  {
   "cell_type": "code",
   "execution_count": null,
   "metadata": {
    "collapsed": true
   },
   "outputs": [],
   "source": []
  }
 ],
 "metadata": {
  "kernelspec": {
   "display_name": "Python 2",
   "language": "python",
   "name": "python2"
  },
  "language_info": {
   "codemirror_mode": {
    "name": "ipython",
    "version": 2
   },
   "file_extension": ".py",
   "mimetype": "text/x-python",
   "name": "python",
   "nbconvert_exporter": "python",
   "pygments_lexer": "ipython2",
   "version": "2.7.15"
  }
 },
 "nbformat": 4,
 "nbformat_minor": 1
}
